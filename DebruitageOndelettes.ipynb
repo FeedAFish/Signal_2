{
 "cells": [
  {
   "cell_type": "markdown",
   "metadata": {},
   "source": [
    "# Débruitage de Signaux par ondelettes"
   ]
  },
  {
   "cell_type": "markdown",
   "metadata": {},
   "source": [
    "Le but de ce TP est double :\n",
    "\n",
    "1) Montrer que l'on peut supprimer une partie importante des parasites sur un signal 1D en effectuant un seuillage dans une base d'ondelettes appropriée. On appelle débruitage cette opération de suppression ou de diminution des parasites\n",
    "\n",
    "2) Mettre en place un plan d'expériences adéquat en Python pour évaluer en un temps raisonnable les paramètres optimaux de la méthode de débruitage."
   ]
  },
  {
   "cell_type": "markdown",
   "metadata": {},
   "source": [
    "Dans ce TP on ajoutera nous même les parasites (le bruit) sur les signaux en ajoutant à des signaux de référence une réalisation d'un bruit blanc gaussien centré. On testera plusieurs variances. On pourrait bien évidemment considérer d'autres modèles de bruit, poissoniens, impulsionnel, salt and pepper ou autre en modifiant quelques lignes. "
   ]
  },
  {
   "cell_type": "markdown",
   "metadata": {},
   "source": [
    "Le débruitage par seuillage dans une base, orthornormée ou non, est une méthode classique \n",
    "et ses performances dépendent largement des capacités d'approximation non linéaire de la base relativement à la classe de signaux qu'on souhaite débruiter. Ainsi, si on souhaite atténuer les effet d'ajoût d'un bruit blanc gaussien sur des signaux uniformément réguliers par exemple $C^2$, un seuillage dans la base de Fourier fera très bien l'affaire. En revanche si on veut être efficace sur des signaux deux fois dérivable par morceaux, un seuillage en ondelettes sera plus approprié.      "
   ]
  },
  {
   "cell_type": "markdown",
   "metadata": {},
   "source": [
    "La qualité du débruitage dépend de la régularité du signal, de la base d'ondelettes choisie, du niveau de bruit ajouté et du niveau du seuil. Nous verrons aussi qu'on peut ajouter une étape de translation pour améliorer encore les résultats. Il existe plusieurs moyens de mesurer le niveau de dégradation du signal bruité ainsi que la qualité de la reconstruction. Nous choisissons ici de considérer le PSNR qui est un outils à la fois classique de mesure de qualité et qui est facilement calculable. Il faut avoir conscience que cette mesure n'en est qu'une parmi d'autres. \n",
    "Pour des images, la qualité visuelle est important comme la qualité sonore l'est pour des sons. \n",
    "Quand l'étape de débruitage n'est un préprocessing d'un travail d'analyse, il est important de ne pas créer d'artefacts qui pourraient être interprétés comme significatif."
   ]
  },
  {
   "cell_type": "markdown",
   "metadata": {},
   "source": [
    "Une première étape du travail consiste d'abord à constuire une fonction qui prend en entrée ces différents paramètres, signal, niveau de bruit, ondelettes, niveau de seuil et qui renvoie un signal de sortie et un PSNR."
   ]
  },
  {
   "cell_type": "markdown",
   "metadata": {},
   "source": [
    "Une seconde étape consiste à créer un plan d'expériences, c'est à dire une série de tests en faisant varier les différents paramètres et de le visualiser de manière efficace.\n",
    "Des bibliothèques Python permettent de le faire sans lancer les codes à la main un grand nombre de fois en faisant varier les paramètres à la main ni même de faire de boucles for. \n",
    "\n",
    "L'art d'utiliser ces méthodes réside dans le fait de faire une exploration intelligente des paramètres. \n",
    "Dans un premier temps, on propose de faire varier le signal de référence, le niveau de bruit, le choix de la base d'ondelettes et du seuil. Mais on ne traite ici que deux signaux et on ne teste pas la translation des bases d'ondelettes (ceci sera expliqué plus tard). En effet, le temps de calcul explose assez vite si on veut faire une recherche exhaustive. A l'issue de ce premier plan d'expériences, vous devriez pouvoir limiter le choix du seuil et des bases d'ondelettes à considérer. Vous pourrez aussi limiter le nombre de niveau de bruit que vous voulez tester pour essayer d'explorer l'influence d'autres paramètres. "
   ]
  },
  {
   "cell_type": "code",
   "execution_count": null,
   "metadata": {},
   "outputs": [],
   "source": [
    "import numpy as np\n",
    "import scipy as scp\n",
    "import pylab as pyl\n",
    "import matplotlib.pyplot as plt\n",
    "import pywt\n",
    "import scipy.io as sio\n",
    "import pandas as pd\n",
    "import holoviews as hv\n",
    "import param\n",
    "import panel as pn\n",
    "from panel.pane import LaTeX\n",
    "import itertools\n",
    "import requests\n",
    "from io import BytesIO\n",
    "from PIL import Image\n",
    "import shutil\n",
    "pn.extension()\n",
    "hv.extension('bokeh')"
   ]
  },
  {
   "cell_type": "markdown",
   "metadata": {},
   "source": [
    "Les lignes suivantes permettent de charger les données à parit du fichier datatP.npy et d'inclure les signaux dans un dictionnaire SignauxRef. Si vous voulez utiliser d'autres signaux de référence, vous pouvez les ajouter ici. La dernière ligne permet de les afficher avec holoview."
   ]
  },
  {
   "cell_type": "code",
   "execution_count": null,
   "metadata": {},
   "outputs": [],
   "source": [
    "local=0\n",
    "if local:\n",
    "    S3=np.load('Piece.npy')\n",
    "    S4=np.load('Blocks.npy')   \n",
    "else:\n",
    "    url='https://plmlab.math.cnrs.fr/dossal/optimisationpourlimage/raw/master/img/Blocks.npy'\n",
    "    response = requests.get(url, stream=True)\n",
    "    with open('blocks.npy', 'wb') as fin:\n",
    "        shutil.copyfileobj(response.raw, fin)\n",
    "    S4=res=np.load('blocks.npy')\n",
    "    url='https://plmlab.math.cnrs.fr/dossal/optimisationpourlimage/raw/master/img/Piece.npy'\n",
    "    response = requests.get(url, stream=True)\n",
    "    with open('piece.npy', 'wb') as fin:\n",
    "        shutil.copyfileobj(response.raw, fin)\n",
    "    S3=res=np.load('piece.npy')\n",
    "pn.Row(hv.Curve(S3),hv.Curve(S4))"
   ]
  },
  {
   "cell_type": "markdown",
   "metadata": {},
   "source": [
    "Le programme suivant définit le PSNR."
   ]
  },
  {
   "cell_type": "code",
   "execution_count": null,
   "metadata": {},
   "outputs": [],
   "source": [
    "def psnr(Sref, Sd):\n",
    "    mse = np.mean( (Sref - Sd) ** 2 )\n",
    "    if mse == 0:\n",
    "        return 100\n",
    "    Val_MAX = max(Sref)\n",
    "    return 20 * np.log10(Val_MAX / np.sqrt(mse))"
   ]
  },
  {
   "cell_type": "markdown",
   "metadata": {},
   "source": [
    "Le programme suivant permet d'effectuer un seuillage d'un vecteur SB dans une base d'ondelettes définie par un filtre qmf et un nombre décompositions L et un seuil Seuil"
   ]
  },
  {
   "cell_type": "code",
   "execution_count": null,
   "metadata": {},
   "outputs": [],
   "source": [
    "def SeuillageOndelette(SB,qmf,L,Seuil):\n",
    "        WTB= pywt.wavedecn(SB, qmf, mode='per', level=L)\n",
    "        arr, coeff_slices = pywt.coeffs_to_array(WTB)\n",
    "        WTS=arr*(np.abs(arr)>Seuil)\n",
    "        coeffs_from_arr = pywt.array_to_coeffs(WTS, coeff_slices)\n",
    "        Srec=pywt.waverecn(coeffs_from_arr,qmf,mode='per')\n",
    "        return Srec"
   ]
  },
  {
   "cell_type": "markdown",
   "metadata": {},
   "source": [
    "Le programme suivant ajoute un bruit à un signal et renvoie un signal débruité\n",
    "\n",
    "Il prend en entrée \n",
    "\n",
    "1) un vecteur S non bruité\n",
    "\n",
    "2) une chaine de caractère qmf qui est le nom d'une ondelette pour py wavelets,\n",
    "\n",
    "3) une entier seednoise qui permettra d'initialiser le générateur aléatoire générant le bruit. \n",
    "Le fait de comparer des méthodes différentes avec la même seed du générateur assure une comparaison plus fair.\n",
    "\n",
    "4) un réel sigma qui est l'écart type du bruit que l'on ajoute, \n",
    "\n",
    "5) un réel T est le niveau du seuil relatif, T=3 signifie par exemple qu'on met à 0 tous les coefficients \n",
    "de la transformée en ondelettes dont la valeur absolue sont inférieurs à 3*sigma\n",
    "\n",
    "Il renvoie le signal bruité et le PSNR associé, le signal reconstruit et le PSNR associé.  "
   ]
  },
  {
   "cell_type": "code",
   "execution_count": null,
   "metadata": {},
   "outputs": [],
   "source": [
    "def Debruit(S,qmf,seednoise,sigma,T):\n",
    "    N1=len(S)\n",
    "    np.random.seed(seed=seednoise)\n",
    "    bruit=np.random.normal(0,1,N1)\n",
    "    Lmax=pywt.dwt_max_level(len(S),pywt.Wavelet(qmf).dec_len)\n",
    "    SB=S+sigma*bruit\n",
    "    Seuil=T*sigma\n",
    "    Srec=SeuillageOndelette(SB,qmf,Lmax,Seuil)\n",
    "    psnr1=psnr(S,SB)\n",
    "    psnr2=psnr(S,Srec)\n",
    "    return Srec,SB,psnr1,psnr2\n",
    "\n"
   ]
  },
  {
   "cell_type": "markdown",
   "metadata": {},
   "source": [
    "Le programme suivant calcule un PSNR moyen du débruitage par seuillage par ondelettes sur N réalisations de bruit.\n",
    "Les paramètres d'entrée sont les mêmes que précédemment à l'exception de la seed du générateur aléatoire qui varie dans le programme. Pour comparer des méthodes de débruitage, il est important d'effecuer la comparaison non pas sur une seule réalisation du bruit mais sur un nombre important. Dans la suite on se limitera à 100 pour avoir une premièreestimation correcte. Le fait de contrôler la seed du générateur aléaoire assure que toutes les méthodes seront comparées sur les mêmes réalisations de bruit."
   ]
  },
  {
   "cell_type": "code",
   "execution_count": null,
   "metadata": {},
   "outputs": [],
   "source": [
    "def DebruitPSNR(S,qmf,N,sigma,T):\n",
    "    seednoise=np.arange(N)\n",
    "    N1=len(S)\n",
    "    Lmax=pywt.dwt_max_level(len(S),pywt.Wavelet(qmf).dec_len)\n",
    "    Seuil=T*sigma\n",
    "    psnr1=np.zeros(N)\n",
    "    for k in seednoise:\n",
    "        np.random.seed(seed=seednoise)\n",
    "        bruit=np.random.normal(0,1,N1)\n",
    "        SB=S+sigma*bruit\n",
    "        Srec=SeuillageOndelette(SB,qmf,Lmax,Seuil)\n",
    "        psnr1[k]=psnr(S,Srec)\n",
    "    return np.mean(psnr1)"
   ]
  },
  {
   "cell_type": "code",
   "execution_count": null,
   "metadata": {},
   "outputs": [],
   "source": [
    "SignauxRef= {\"PieceRegular\" : S3,\"Blocks\" : S4}\n",
    "Test=DebruitPSNR(SignauxRef['PieceRegular'],\"haar\",100,1,3)\n",
    "print(Test)"
   ]
  },
  {
   "cell_type": "markdown",
   "metadata": {},
   "source": [
    "On définit ensuite une liste des ondelettes et des signaux que l'on souhaite tester."
   ]
  },
  {
   "cell_type": "code",
   "execution_count": null,
   "metadata": {},
   "outputs": [],
   "source": [
    "wavelist = ['haar','db2','db3','db4','coif1','coif2','coif3']\n",
    "\n"
   ]
  },
  {
   "cell_type": "code",
   "execution_count": null,
   "metadata": {},
   "outputs": [],
   "source": [
    "Sigma=np.linspace(0.1,0.5,2)\n",
    "T=np.linspace(1,6,6)\n",
    "for s in Sigma:\n",
    "    for t in T:\n",
    "        for d in SignauxRef:\n",
    "            p=DebruitPSNR(SignauxRef[d],\"db2\",100,s,t)\n",
    "        print(p)"
   ]
  },
  {
   "cell_type": "markdown",
   "metadata": {},
   "source": [
    "Le programme suivant permet d'explorer numériquement la fonction précédemment écrite Debruit.\n",
    "\n",
    "Il crée un tableau de commandes (dashboard) avec des sliders qui permet de jouer sur les differents paramètres de cette fonction \n",
    "en temps réel. \n",
    "\n",
    "Il superpose dans une même figure le signal original, le signal bruité et le signal reconstruit et affiche à droite les deux PSNR des signaux bruité et débruité calculé par rapport au signal original."
   ]
  },
  {
   "cell_type": "code",
   "execution_count": null,
   "metadata": {},
   "outputs": [],
   "source": [
    "class WaveDebruit(param.Parameterized):\n",
    "    wave = param.ObjectSelector(default=\"haar\",objects=wavelist)\n",
    "    Signal = param.ObjectSelector(default=\"Blocks\",objects=SignauxRef.keys())\n",
    "    seednoise = param.Integer(1,bounds=(0,50))\n",
    "    sigma=param.Number(0.01,bounds=(0,0.2))\n",
    "    T=param.Number(3,bounds=(0,8))\n",
    "    def view(self):\n",
    "        #S=Name2Signal(self.Signal)\n",
    "        S=SignauxRef[self.Signal]\n",
    "        Srec,SB,p1,p2=Debruit(S,self.wave,self.seednoise,self.sigma,self.T)\n",
    "        strp1=\"%2.2f\" % p1\n",
    "        strp2=\"%2.2f\" % p2\n",
    "        te1='PSNR signal bruité = '\n",
    "        te2='PSNR signal reconstruit = '\n",
    "        TN1=hv.Text(0.5,0.5,te1+strp1).opts(xaxis=None,yaxis=None,toolbar=None)\n",
    "        TN2=hv.Text(0.5,0.3,te2+strp2).opts(xaxis=None,yaxis=None)\n",
    "        #TN=pn.Column(LaTeX(te1,size=15,dpi=100)\\\n",
    "        #            ,LaTeX(strp1,size=15,dpi=100),LaTeX(te2,size=15,dpi=100),LaTeX(strp2,size=15,dpi=100))\n",
    "        curve=hv.Curve(S,kdims='x',vdims='v').opts(width=500,color='r')\n",
    "        curveB=hv.Curve(SB,kdims='x',vdims='v').opts(color='c')\n",
    "        curveRec=hv.Curve(Srec,kdims='x',vdims='v').opts(color='k')\n",
    "        m=-0.1\n",
    "        M=1.1\n",
    "        curve=curve.redim.range(x=(0,len(S)),v=(m,M))\n",
    "        curveB=curveB.redim.range(x=(0,len(S)),v=(m,M))\n",
    "        curveRec=curveRec.redim.range(x=(0,len(S)),v=(m,M))\n",
    "        return pn.Column(curveB*curveRec*curve,TN1*TN2)"
   ]
  },
  {
   "cell_type": "markdown",
   "metadata": {},
   "source": [
    "Les deux lignes suivantes permettent d'afficher le résultat de la focntion précédente. A gauche le tableau de commande avec les paramètres wavedebruit.param. A droite la sortie du programme précédent wavedebruit.view."
   ]
  },
  {
   "cell_type": "code",
   "execution_count": null,
   "metadata": {},
   "outputs": [],
   "source": [
    "wavedebruit = WaveDebruit()\n",
    "pn.Row(wavedebruit.param,wavedebruit.view)"
   ]
  },
  {
   "cell_type": "markdown",
   "metadata": {},
   "source": [
    "Les lignes suivantes permettent de créer via la librairie Panda un plan d'expériences.\n",
    "On considère 2 signaux, 7 ondelettes, 5 valeurs de Sigma et 8 valeurs de seuil... ce qui fait 560 jeux de paramètres différents qui vont être testé. Pour chacun d'entre eux on va évaluer un PSNR moyen sur 100 expériences, ce qui fait un total de 56000 débruitages par seuillage dans une base d'ondelettes.\n",
    "\n",
    "La variable dfexp est un objet Panda, tableau ou base de données qui est construit à partir d'un objet expériences qui décrit les différents paramètres et les valeurs qu'ils prennent."
   ]
  },
  {
   "cell_type": "code",
   "execution_count": null,
   "metadata": {},
   "outputs": [],
   "source": [
    "experiences = {'Si':SignauxRef.keys(),'sigma':np.linspace(0.1,0.5,5),'Th':np.linspace(1,8,8),'wave':wavelist}\n",
    "dfexp = pd.DataFrame(list(itertools.product(*experiences.values())),columns=experiences.keys())"
   ]
  },
  {
   "cell_type": "code",
   "execution_count": null,
   "metadata": {},
   "outputs": [],
   "source": [
    "print(dfexp)"
   ]
  },
  {
   "cell_type": "markdown",
   "metadata": {},
   "source": [
    "On peut accéder à une ligne spécifique de cette base de donnée de la manière suivante :"
   ]
  },
  {
   "cell_type": "code",
   "execution_count": null,
   "metadata": {},
   "outputs": [],
   "source": [
    "rowtest=  dfexp.iloc[6]\n",
    "print(rowtest)"
   ]
  },
  {
   "cell_type": "code",
   "execution_count": null,
   "metadata": {},
   "outputs": [],
   "source": [
    "print(rowtest.Si)"
   ]
  },
  {
   "cell_type": "code",
   "execution_count": null,
   "metadata": {},
   "outputs": [],
   "source": [
    "print(rowtest.Th)"
   ]
  },
  {
   "cell_type": "markdown",
   "metadata": {},
   "source": [
    "ATTENTION À NE PAS UTILISER UN CHAMP APPELÉ T DANS \"expreriences\". EN EFFET \"experiences.T\" EST LA TRANSPOSÉE DE \"experiences\". "
   ]
  },
  {
   "cell_type": "code",
   "execution_count": null,
   "metadata": {},
   "outputs": [],
   "source": [
    "print(dfexp.T)"
   ]
  },
  {
   "cell_type": "markdown",
   "metadata": {},
   "source": [
    "La fonction suivante prend en entrée une ligne d'une base de donnée et renvoie le PSNR associé à l'expérience définie par les paramètres contenue dans la ligne. La valeur 10 correspond au nombre de fois où on effectue le débruitage pour chaque jeu de paramètres pour obte,nir une valeur fiable du PSNR."
   ]
  },
  {
   "cell_type": "code",
   "execution_count": null,
   "metadata": {},
   "outputs": [],
   "source": [
    "def row2PSNR(row):\n",
    "    N=10\n",
    "    p=DebruitPSNR(SignauxRef[row.Si],row.wave,N,row.sigma,row.Th)\n",
    "    return {'PSNR':p}"
   ]
  },
  {
   "cell_type": "markdown",
   "metadata": {},
   "source": [
    "il est possible de lancer cette fonction, directement sur une ligne :"
   ]
  },
  {
   "cell_type": "code",
   "execution_count": null,
   "metadata": {},
   "outputs": [],
   "source": [
    "result_test = row2PSNR(rowtest)\n",
    "print(result_test)"
   ]
  },
  {
   "cell_type": "markdown",
   "metadata": {},
   "source": [
    "La commande suivante permet de parcourir la base de données dfexp ligne par ligne (option axis=1) et d'appliquer à chaque ligne la fonction précédente. Le résultat est stocké dans une base de donnée avec une seule colonne appelée result.\n"
   ]
  },
  {
   "cell_type": "code",
   "execution_count": null,
   "metadata": {},
   "outputs": [],
   "source": [
    "result = dfexp.apply(row2PSNR,axis=1)\n"
   ]
  },
  {
   "cell_type": "markdown",
   "metadata": {},
   "source": [
    "La commande suivante permet d'ajouter une colonne PSNR à la base de données dfexp et d'y mettre les valeurs contenues dans la base de données results."
   ]
  },
  {
   "cell_type": "code",
   "execution_count": null,
   "metadata": {},
   "outputs": [],
   "source": [
    "dfexp[['PSNR']] = pd.DataFrame.from_records(result.values)"
   ]
  },
  {
   "cell_type": "markdown",
   "metadata": {},
   "source": [
    "On peut vérifier qu'on a bien ajouté une colonne à la base de données dfexp. "
   ]
  },
  {
   "cell_type": "code",
   "execution_count": null,
   "metadata": {},
   "outputs": [],
   "source": [
    "print(dfexp)"
   ]
  },
  {
   "cell_type": "markdown",
   "metadata": {},
   "source": [
    "Les lignes suivantes permettent de visualiser la base de données dfexp à l'aide de la librairie holoviews.\n",
    "\n",
    "On affiche le PSNR en fonction du seuil. \n",
    "\n",
    "L'option \"by\" permet d'afficher ces PSNR avec des couleurs différentes selon les ondelettes. On peut cliquer sur les les noms des ondelettespour faire la faire disparaitre momentanément de l'affichage.\n",
    "\n",
    "L'option \"kind\" permet d'afficher les résultats avec des points et pas des courbes. Ce qui me semble ici le plus lisible. \n",
    "\n",
    "L'option \"groupby\" permet de créer un menu déroulant et un curseur sur la droite. Le choix est fait automatiquement en fonction du type de la variable, ici chaine de caractères ou réel. Si on enlève le groupby, la figure comportera plus de points de chaque couleur.\n",
    "\n"
   ]
  },
  {
   "cell_type": "code",
   "execution_count": null,
   "metadata": {},
   "outputs": [],
   "source": [
    "import hvplot.pandas\n",
    "from bokeh.models import HoverTool\n",
    "h = HoverTool()\n",
    "dfexp.hvplot('Th','PSNR',by='wave',kind='scatter',groupby=['Si','sigma'])\\\n",
    ".opts(width=600,tools = [h]).redim.range(PSNR=(5,30),Th=(0,9))"
   ]
  },
  {
   "cell_type": "markdown",
   "metadata": {},
   "source": [
    "Quelle base d'ondelettes semble la plus adaptée à chacun des deux signaux ?\n",
    "\n",
    "Pouvez vous l'expliquer ?\n",
    "\n",
    "Les résultats sont ils différents si on passe à 50 le nombre d'expériences pour évaluer chaque valeur de PSNR.\n",
    "\n",
    "Proposez une valeur raisonnable pour ce nombre d'expériences, c'est-à-dire une valeur qui ganrantit une valeur fiable des PSNR et ne nécessite pas de calculs inutiles."
   ]
  },
  {
   "cell_type": "markdown",
   "metadata": {},
   "source": [
    "Le graphique précédent semble indiquer que le choix d'un seuil à $3\\sigma$ est un choix raisonnable. Dans la suite, on pourra donc limiter le plan d'expériences à la valeur Th=3."
   ]
  },
  {
   "cell_type": "markdown",
   "metadata": {},
   "source": [
    "# Translations et débruitage en bases d'ondelettes."
   ]
  },
  {
   "cell_type": "markdown",
   "metadata": {},
   "source": [
    "On peut améliorer la performance du débruitage d'un seuillage simple en ondelettes en utilisant le fait que la transformée en ondelettes n'est pas invariante par translation. Ainsi si on effectue un shift circulaire sur les composantes d'un vecteur, on modifie l'amplitude des coefficients d'ondelettes, comme on peut le voir sur l'exemple suivant : \n",
    "\n",
    "On affiche sur une même figure, un vecteur et son image par une translation d'une part, et ses coefficients en ondelettes et les coefficients du vecteur translaté. Vous pouvez observer qu'on obtient pas toujours les coefficients en ondelettes du vecteur translaté par translation du vecteur original. Cette remarque est particulièrement bien illustrée pour les translations d'un nombre impair de points."
   ]
  },
  {
   "cell_type": "code",
   "execution_count": null,
   "metadata": {},
   "outputs": [],
   "source": [
    "class WaveTranslation(param.Parameterized):\n",
    "    trans = param.Integer(15,bounds=(0,31))\n",
    "    wave = param.ObjectSelector(default=\"haar\",objects=wavelist)\n",
    "    Signal = param.ObjectSelector(default=\"Blocks\",objects=SignauxRef.keys())\n",
    "    \n",
    "    def view(self):\n",
    "        S=SignauxRef[self.Signal]\n",
    "        W= pywt.wavedecn(S, self.wave, mode='per', level=3)\n",
    "        arr, coeff_slices = pywt.coeffs_to_array(W)\n",
    "        S1=np.roll(S,self.trans)\n",
    "        W1=pywt.wavedecn(S1, self.wave, mode='per', level=3)\n",
    "        arr1, coeff_slices = pywt.coeffs_to_array(W1)\n",
    "        return pn.Column(hv.Curve(S)*hv.Curve(S1).opts(width=600),hv.Curve(arr)*hv.Curve(arr1).opts(width=600))"
   ]
  },
  {
   "cell_type": "code",
   "execution_count": null,
   "metadata": {},
   "outputs": [],
   "source": [
    "wavetranslation = WaveTranslation()\n",
    "pn.Row(wavetranslation.param,wavetranslation.view)"
   ]
  },
  {
   "cell_type": "markdown",
   "metadata": {},
   "source": [
    "On peut exploiter cette propriété pour le débruitage en effectuant un débruitage dun même signal dans des bases d'ondelettes translatées.\n",
    "\n",
    "Le programme suivant réalise le débruitage pour un nombre \"trans\" de translations. \n",
    "La fonction renvoie la liste des PSNR obtenus en effectuant la moyenne sur les différentes translation, pour une réalisation de bruit donnée."
   ]
  },
  {
   "cell_type": "code",
   "execution_count": null,
   "metadata": {},
   "outputs": [],
   "source": [
    "def DebruitTrans(S,qmf,seednoise,sigma,T,trans):\n",
    "    N1=len(S)\n",
    "    np.random.seed(seed=seednoise)\n",
    "    bruit=np.random.normal(0,1,N1)\n",
    "    Lmax=pywt.dwt_max_level(len(S),pywt.Wavelet(qmf).dec_len)\n",
    "    SB=S+sigma*bruit\n",
    "    Seuil=T*sigma\n",
    "    SSum=0*SB\n",
    "    P=np.zeros(trans)\n",
    "    for k in np.arange(0,trans):\n",
    "        SBtemp=np.roll(SB,k)\n",
    "        Srectemp=SeuillageOndelette(SBtemp,qmf,Lmax,Seuil)\n",
    "        Srectemp2=np.roll(Srectemp,-k)\n",
    "        SSum=SSum+Srectemp2\n",
    "        Srec=SSum/(k+1)\n",
    "        P[k]=psnr(S,Srec)\n",
    "    return Srec,P"
   ]
  },
  {
   "cell_type": "markdown",
   "metadata": {},
   "source": [
    "On peut tester le programme de la façon suivante à la main : la courbe bleu est le Signal bruité, la rouge, celle obtenue par seuillage simple, la jaune en utilisant les translations. On doit observer que la reconstruction jaune est meilleure que la rouge."
   ]
  },
  {
   "cell_type": "code",
   "execution_count": null,
   "metadata": {},
   "outputs": [],
   "source": [
    "S=SignauxRef['Blocks']\n",
    "qmf='haar'\n",
    "seednoise=3\n",
    "sigma=0.1\n",
    "T=3\n",
    "trans=32\n",
    "Srec,SB,psnr1,psnr2=Debruit(S,qmf,seednoise,sigma,T)\n",
    "Srec1,P=DebruitTrans(S,qmf,seednoise,sigma,T,trans)\n",
    "hv.Curve(SB)*hv.Curve(Srec)*hv.Curve(Srec1).opts(width=800)"
   ]
  },
  {
   "cell_type": "markdown",
   "metadata": {},
   "source": [
    "On peut aussi comparer les PSNR : celui du signal bruité, du signal obtenu par seuillage simple et celui obtenu en exploitant les translations."
   ]
  },
  {
   "cell_type": "code",
   "execution_count": null,
   "metadata": {},
   "outputs": [],
   "source": [
    "print(psnr1,psnr2,P[trans-1])"
   ]
  },
  {
   "cell_type": "markdown",
   "metadata": {},
   "source": [
    "Si on veut mesurer l'impact en terme de gain de PSNR de ces translations, on peut réaliser un plan d'expériences comme on l'a fait précédemment. On va se limiter à des translations de 0 à 31 points. \n",
    "\n",
    "Pour cela on va d'abord créer une fonction qui calcule une moyenne des PSNR sur N différentes réalisations du bruit.\n"
   ]
  },
  {
   "cell_type": "code",
   "execution_count": null,
   "metadata": {},
   "outputs": [],
   "source": [
    "def DebruitTransMoyenne(S,qmf,sigma,T,trans,N):\n",
    "    P=np.zeros(trans)\n",
    "    for seednoise in np.arange(0,N):\n",
    "        Srec,Ptemp=DebruitTrans(S,qmf,seednoise,sigma,T,trans)\n",
    "        P=P+Ptemp\n",
    "    P=P/N\n",
    "    return P"
   ]
  },
  {
   "cell_type": "markdown",
   "metadata": {},
   "source": [
    "On peut tester cette fonction à la main "
   ]
  },
  {
   "cell_type": "code",
   "execution_count": null,
   "metadata": {},
   "outputs": [],
   "source": [
    "S=SignauxRef['Blocks']\n",
    "qmf='haar'\n",
    "seednoise=3\n",
    "sigma=0.1\n",
    "T=3\n",
    "trans=32\n",
    "N=50\n",
    "P=DebruitTransMoyenne(S,qmf,sigma,T,trans,N)\n",
    "print(P)"
   ]
  },
  {
   "cell_type": "markdown",
   "metadata": {},
   "source": [
    "On peut remarquer que la suite des valeurs n'est pas strictement croissante, mais que les translations apportent un gain substantiel."
   ]
  },
  {
   "cell_type": "markdown",
   "metadata": {},
   "source": [
    "On crée ensuite un plan d'expériences. Ici je fais le choix de ne pas intégrer les translations dans le plan d'expériences mais on aurait pu procéder autrement. La raison de choix réside dans le fait qu'une approche aurait impliqué de faire de nombreux calculs plusieurs fois. En effet, tout calculer pour 7 translations puis le refaire pour 8 translations est extrêmement redondant. J'ai choisis ici de faire de calculer en une seule fois, les PSNR associés à toutes les translations et de manipuler a posteriori les bases de données."
   ]
  },
  {
   "cell_type": "code",
   "execution_count": null,
   "metadata": {},
   "outputs": [],
   "source": [
    "experiences_trans = {'Si':SignauxRef.keys(),'sigma':np.linspace(0.1,0.5,5),'wave':wavelist}\n",
    "dfexp_trans = pd.DataFrame(list(itertools.product(*experiences_trans.values())),columns=experiences_trans.keys())"
   ]
  },
  {
   "cell_type": "code",
   "execution_count": null,
   "metadata": {},
   "outputs": [],
   "source": [
    "print(dfexp_trans)"
   ]
  },
  {
   "cell_type": "code",
   "execution_count": null,
   "metadata": {},
   "outputs": [],
   "source": [
    "def row2PSNR_trans(row):\n",
    "    T=3\n",
    "    N=10\n",
    "    trans=11\n",
    "    P=DebruitTransMoyenne(SignauxRef[row.Si],row.wave,row.sigma,T,trans,N)\n",
    "    return {'PSNR':P}"
   ]
  },
  {
   "cell_type": "code",
   "execution_count": null,
   "metadata": {},
   "outputs": [],
   "source": [
    "result2 = dfexp_trans.apply(row2PSNR_trans,axis=1)\n",
    "dfexp_trans[['PSNR']] = pd.DataFrame.from_records(result2.values)"
   ]
  },
  {
   "cell_type": "code",
   "execution_count": null,
   "metadata": {},
   "outputs": [],
   "source": [
    "print(dfexp_trans)"
   ]
  },
  {
   "cell_type": "markdown",
   "metadata": {},
   "source": [
    "Les lignes suivantes permettent de restructurer la base de données de manière à avoir une colonne translation qui correspond à ce que l'on souhaite."
   ]
  },
  {
   "cell_type": "code",
   "execution_count": null,
   "metadata": {},
   "outputs": [],
   "source": [
    "df = dfexp_trans.copy()\n",
    "\n",
    "df = pd.concat((df[['Si','sigma','wave']],pd.DataFrame(df.PSNR.values.tolist(),df.index)),axis=1)\n",
    "\n",
    "df = df.melt(id_vars=['Si','sigma','wave'],var_name='translation',value_name='PSNR')"
   ]
  },
  {
   "cell_type": "code",
   "execution_count": null,
   "metadata": {},
   "outputs": [],
   "source": [
    "print(df)"
   ]
  },
  {
   "cell_type": "markdown",
   "metadata": {},
   "source": [
    "On termine en affichant les PSNR en fonction du nombre de translations... "
   ]
  },
  {
   "cell_type": "code",
   "execution_count": null,
   "metadata": {},
   "outputs": [],
   "source": [
    "import hvplot.pandas\n",
    "from bokeh.models import HoverTool\n",
    "h = HoverTool()\n",
    "df.hvplot('translation','PSNR',by='wave',kind='scatter',groupby=['Si','sigma'])\\\n",
    ".opts(width=600,tools = [h]).redim.range(PSNR=(13,32),translation=(-0.5,10.5))"
   ]
  },
  {
   "cell_type": "markdown",
   "metadata": {},
   "source": [
    "## Estimation de la variance du bruit par Ondelettes"
   ]
  },
  {
   "cell_type": "markdown",
   "metadata": {},
   "source": [
    "Dans des situations réelles, on peut ne pas connaitre la variance du bruit. Cette dernière peut être estimée \n",
    "en utilisant les coefficients d'ondelettes. En effet on peut exploiter le fait qu'aux fines échelles, l'essentiel des coefficients sont dus au bruit. La moyenne des valeurs absolue des coefficients du signal bruité peut être lourdement impacté par les coefficients du signal mais pas la médiane. Comme on peut le constater en effectuant les lignes suivantes : "
   ]
  },
  {
   "cell_type": "code",
   "execution_count": null,
   "metadata": {},
   "outputs": [],
   "source": [
    "s=SignauxRef[\"Blocks\"]\n",
    "n1=len(s)\n",
    "b=0.01*np.random.randn(n1)\n",
    "sb=s+b\n",
    "wsb=pywt.wavedec(sb, 'haar', mode='per', level=9)\n",
    "wb=pywt.wavedec(b, 'haar', mode='per', level=9)\n",
    "print(np.median(np.abs(wsb[9])),np.median(np.abs(wb[9])))"
   ]
  },
  {
   "cell_type": "markdown",
   "metadata": {},
   "source": [
    "On peut remarquer que si $X$ est une variable gaussienne centrée réduite, la médiane $m$ de sa valeur absolue vérifie \n",
    "$P(X>m)=0.25$.\n",
    "\n",
    "En déduire que l'espérance de cette médiane des coefficients du bruit est donnée par "
   ]
  },
  {
   "cell_type": "code",
   "execution_count": null,
   "metadata": {},
   "outputs": [],
   "source": [
    "print(0.01*np.sqrt(2)*scp.special.erfinv(0.5))"
   ]
  },
  {
   "cell_type": "markdown",
   "metadata": {},
   "source": [
    "Et qu'on peut ainsi estimer l'écart type du bruit par la fonction suivante :"
   ]
  },
  {
   "cell_type": "code",
   "execution_count": null,
   "metadata": {},
   "outputs": [],
   "source": [
    "def EstimEcartTypeBruit(s,qmf):\n",
    "    Lmax=pywt.dwt_max_level(len(s),pywt.Wavelet(qmf).dec_len)\n",
    "    wsb=pywt.wavedec(sb, qmf, mode='per', level=Lmax)\n",
    "    mt=np.sqrt(2)*scp.special.erfinv(0.5)\n",
    "    return np.median(np.abs(wsb[Lmax]))/mt"
   ]
  },
  {
   "cell_type": "code",
   "execution_count": null,
   "metadata": {},
   "outputs": [],
   "source": [
    "print(EstimEcartTypeBruit(s,'haar'))"
   ]
  },
  {
   "cell_type": "code",
   "execution_count": null,
   "metadata": {},
   "outputs": [],
   "source": []
  },
  {
   "cell_type": "code",
   "execution_count": null,
   "metadata": {},
   "outputs": [],
   "source": []
  }
 ],
 "metadata": {
  "kernelspec": {
   "display_name": "Python 3 (ipykernel)",
   "language": "python",
   "name": "python3"
  },
  "language_info": {
   "codemirror_mode": {
    "name": "ipython",
    "version": 3
   },
   "file_extension": ".py",
   "mimetype": "text/x-python",
   "name": "python",
   "nbconvert_exporter": "python",
   "pygments_lexer": "ipython3",
   "version": "3.10.2"
  },
  "latex_envs": {
   "LaTeX_envs_menu_present": true,
   "autoclose": false,
   "autocomplete": true,
   "bibliofile": "biblio.bib",
   "cite_by": "apalike",
   "current_citInitial": 1,
   "eqLabelWithNumbers": true,
   "eqNumInitial": 1,
   "hotkeys": {
    "equation": "Ctrl-E",
    "itemize": "Ctrl-I"
   },
   "labels_anchors": false,
   "latex_user_defs": false,
   "report_style_numbering": false,
   "user_envs_cfg": false
  }
 },
 "nbformat": 4,
 "nbformat_minor": 4
}
