import numpy as np
import scipy as scp
import pylab as pyl
import matplotlib.pyplot as plt
import pywt
import scipy.io as sio
import pandas as pd
import holoviews as hv
import param
import panel as pn
from panel.pane import LaTeX
hv.extension('bokeh')
from PIL import Image
from io import BytesIO
import requests


local=0
def chargeData(name):
    if local:
        if name=='Lenna':
            res=np.array(Image.open("./Archive/img/Lenna.jpg")).astype(float)
        if name=='Canaletto':
            res=np.array(Image.open("./Archive/img/Canaletto.jpeg")).astype(float)
        if name=='Minotaure':
            res=np.array(Image.open("./Archive/img/MinotaureBruite.jpeg")).astype(float)   
        if name=='Cartoon':
            res=np.array(Image.open("./Archive/img/Cartoon.jpg")).astype(float) 
    else:
        if name=='Lenna':
            url='https://plmlab.math.cnrs.fr/dossal/optimisationpourlimage/raw/master/img/Lenna.jpg'        
            response = requests.get(url)
            res=np.array(Image.open(BytesIO(response.content))).astype(float)
        if name=='Canaletto':
            url='https://plmlab.math.cnrs.fr/dossal/optimisationpourlimage/raw/master/img/Canaletto.jpeg'
            response = requests.get(url)
            res=np.array(Image.open(BytesIO(response.content))).astype(float)
        if name=='Minotaure':
            url='https://plmlab.math.cnrs.fr/dossal/optimisationpourlimage/raw/master/img/MinotaureBruite.jpeg'
            response = requests.get(url)
            res=np.array(Image.open(BytesIO(response.content))).astype(float)
        if name=='Cartoon':
            url='https://plmlab.math.cnrs.fr/dossal/optimisationpourlimage/raw/master/img/Cartoon.jpg'        
            response = requests.get(url)
            res=np.array(Image.open(BytesIO(response.content))).astype(float)
    return res


im2=chargeData('Lenna')
im=chargeData('Canaletto')
imagesRef= {"Lenna" : im2,"Canaletto" : im}
options = dict(cmap='gray',xaxis=None,yaxis=None,width=400,height=400,toolbar=None)
pn.Row(hv.Raster(imagesRef["Lenna"]).opts(**options),hv.Raster(imagesRef["Canaletto"]).opts(**options))


size=400
WT= pywt.wavedecn(im, 'haar', mode='per', level=1)
arr, coeff_slices = pywt.coeffs_to_array(WT)
hv.Image(arr).opts(cmap='gray',width=size,height=size)


def ApproxOnd2D(S,qmf,L,threshold):
    wltemp = pywt.wavedecn(S,qmf,mode="per",level=L)
    arr,coeff_slices,coeff_shape = pywt.ravel_coeffs(wltemp)
    ncoeffs = np.sum(np.abs(arr)>threshold)
    arr = arr*(np.abs(arr)>threshold)
    wl = pywt.unravel_coeffs(arr,coeff_slices,coeff_shape)
    Srec = pywt.waverecn(wl,qmf,mode="per")
    return Srec,ncoeffs


def PSNR(I,Iref):
    mse = np.mean((I-Iref)**2)
    if mse == 0:
        return 100
    I_max = np.max(Iref)
    return 20 * np.log10(I_max/np.sqrt(mse))


def ApproxOnd2nonlin(I,qmf,L,N):
    wltemp = pywt.wavedecn(I,qmf,mode="per",level=L)
    arr,coeff_slices,coeff_shape = pywt.ravel_coeffs(wltemp)
    arrsort = np.flipud(np.argsort(np.abs(arr)))
    arr[arrsort[N:]]=0
    wl = pywt.unravel_coeffs(arr,coeff_slices,coeff_shape)
    Irec = pywt.waverecn(wl,qmf,mode="per")
    p = PSNR(Irec,I)
    Irec = np.clip(Irec,0,255)
    return Irec,p


Irec,p=ApproxOnd2nonlin(im,'db2',6,5000)
hv.Image(Irec).opts(cmap='gray',width=400,height=400)


print("PSNR :",p)


wavelist = ['haar','db2','db3','db4','coif1','coif2','coif3']

class Approx2D(param.Parameterized):
    image = param.ObjectSelector(default="Canaletto",objects=imagesRef.keys())
    wave = param.ObjectSelector(default="haar",objects=wavelist)
    L = param.Integer(5,bounds=(0,7))
    N = param.Integer(2000,bounds=(1,10000))
    def view(self):
        I = imagesRef[self.image]
        Irec,p = ApproxOnd2nonlin(I,self.wave,self.L,self.N)
        strp="%2.2f" % p
        nom1='PSNR image reconstruite'
        nom2="image origin"
        TN1=pn.Column(LaTeX(nom1,size=15,dpi=100),LaTeX(strp,size=15,dpi=100))
        TN2=pn.Column(LaTeX(nom2,size=15,dpi=100))
        curve=hv.Image(np.clip(I,0,255)).opts(cmap='gray',width=400,height=400)
        curveRec=hv.Image(Irec).opts(cmap='gray',width=400,height=400)
        return pn.Column(pn.Row(curve,TN2),pn.Row(curveRec,TN1))


approx2D = Approx2D()
pn.Row(approx2D.param,approx2D.view)


import itertools
experiences = {'Image':imagesRef,'N':np.linspace(1000,50000,30),'wave':wavelist}
experiences = {'Image':imagesRef,'N':np.linspace(1000,50000,30,dtype=int),'wave':wavelist}
dfexp = pd.DataFrame(list(itertools.product(*experiences.values())),columns=experiences.keys())


print(dfexp)


def row2PSNR(row, **kwargs):
    L = kwargs.get("L") if kwargs.get("L") else 3
    Irec,p = ApproxOnd2nonlin(imagesRef[row.Image],row.wave,L,row.N)
    return {'PSNR':p}


row = dfexp.iloc[4]
print(row)
print(row2PSNR(row,L=5))


result = dfexp.apply(row2PSNR,axis=1)
dfexp[['PSNR']] = pd.DataFrame.from_records(result.values)
print(dfexp)


import hvplot.pandas


from bokeh.models import HoverTool
h = HoverTool()


dfexp.hvplot('N','PSNR',by='wave',kind='scatter',groupby=['Image']).opts(width=600,tools = [h]).redim.range(PSNR=(0,70),N=(0,51000))




def SeuillageDurOndelettes(I,qmf,L,Seuil):
    WTB = pywt.wavedecn(I,qmf,mode="per",level=L)
    arr,coeff_slices,coeff_shape = pywt.ravel_coeffs(WTB)
    WTS = arr*(np.abs(arr)>Seuil)
    coeffs_from_arr = pywt.unravel_coeffs(WTS,coeff_slices,coeff_shape)
    Irec = pywt.waverecn(coeffs_from_arr,qmf,mode="per")
    Irec = np.clip(Irec,0,255)
    return Irec


class WaveSeuillage(param.Parameterized):
    image = param.ObjectSelector(default="Canaletto",objects=imagesRef.keys())
    wave = param.ObjectSelector(default="haar",objects=wavelist)
    L = param.Integer(7,bounds=(0,7))
    Seuil = param.Number(10,bounds=(1,1000))
    def view(self):
        I = imagesRef[self.image]
        Irec = SeuillageDurOndelettes(I,self.wave,self.L,self.Seuil)
        p = PSNR(Irec,I)
        strp="%2.2f" % p
        nom1='PSNR image reconstruite'
        nom2="image origin"
        TN=pn.Column(LaTeX(nom1,size=15,dpi=100),LaTeX(strp,size=15,dpi=100))
        curve=hv.Image(np.clip(I,0,255)).opts(cmap='gray',width=400,height=400)
        curveRec=hv.Image(Irec).opts(cmap='gray',width=400,height=400)
        return pn.Column(pn.Row(curve,LaTeX(nom2,size=15,dpi=100)),pn.Row(curveRec,TN))


waveseuillage = WaveSeuillage()
pn.Row(waveseuillage.param,waveseuillage.view)


n1,n2=np.shape(im)
B=np.random.randn(n1,n2)
sigma=10
ib=im+sigma*B
ib=np.clip(ib,0,255)
hv.Image(ib).opts(cmap='gray',width=400,height=400)



class WaveDebruit(param.Parameterized):
    image = param.ObjectSelector(default="Lenna",objects=imagesRef.keys())
    wave = param.ObjectSelector(default="haar",objects=wavelist)
    L = param.Integer(7,bounds=(0,7))
    Seuil = param.Number(3,bounds=(1,6))
    Sigma = param.Number(10,bounds=(1,30))
    seednoise = param.Integer(1,bounds=(0,50))
    def view(self):
        I = imagesRef[self.image]
        n1,n2 = I.shape
        np.random.seed(seed=self.seednoise)
        noise = self.Sigma*np.random.randn(n1,n2)
        I_noised = I+noise
        Irec = SeuillageDurOndelettes(I_noised,self.wave,self.L,self.Seuil*self.Sigma)
        p3 = PSNR(I_noised,I)
        p1 = PSNR(Irec,I)
        strp1="%2.2f" % p1
        strp3="%2.2f" % p3
        nom1='PSNR image reconstruite'
        nom2="image origin"
        nom3="image bruitée"
        TN1=pn.Column(LaTeX(nom1,size=15,dpi=100),LaTeX(strp1,size=15,dpi=100))
        TN3=pn.Column(LaTeX(nom3,size=15,dpi=100),LaTeX(strp3,size=15,dpi=100))
        curve=hv.Image(np.clip(I,0,255)).opts(cmap='gray',width=400,height=400)
        curveNoise = hv.Image(np.clip(I_noised,0,255)).opts(cmap='gray',width=400,height=400)
        curveRec=hv.Image(Irec).opts(cmap='gray',width=400,height=400)
        return pn.Column(pn.Row(curve,LaTeX(nom2,size=15,dpi=100)),pn.Row(curveNoise,TN3),pn.Row(curveRec,TN1))


waveDebruit = WaveDebruit()
pn.Row(waveDebruit.param,waveDebruit.view)


def DebruitTranslation(IB,wave,seuil,NbT,I):
    ISum=0*IB
    # Lmax=pywt.dwt_max_level(len(IB),pywt.Wavelet(qmf).dec_len)
    P=np.zeros((NbT,NbT))
    for i in range(NbT):
        for j in range(NbT):
            IBtemp1=np.roll(IB,i,axis=0)
            IBtemp2=np.roll(IBtemp1,j,axis=1)
            Irectemp=SeuillageDurOndelettes(IBtemp2,wave,Lmax,seuil*sigma)
            Irectemp1=np.roll(Irectemp,-j,axis=1)
            Irectemp2=np.roll(Irectemp1,-i,axis=0)
            ISum=ISum+Irectemp2
            Irec=ISum/(i+1)/(j+1)
            P[i,j]=PSNR(Irec,I)
    Irec = np.clip(Irec,0,255)
    return Irec,P


I=imagesRef['Lenna']
#Get wave
qmf=wavelist[np.random.randint(0,7)]
#Create noise
seednoise=4
sigma=0.2
T=3
NbT=32
n1,n2 = I.shape
np.random.seed(seed=seednoise)
bruit=np.random.randn(n1,n2)
IB=np.clip(I+sigma*bruit,0,255)
Lmax=pywt.dwtn_max_level(I.shape,qmf)
Irec,P=DebruitTranslation(IB,qmf,T,NbT,I)
curve = hv.Image(np.clip(I,0,255)).opts(cmap='gray',width=400,height=400)
curveB = hv.Image(IB).opts(cmap='gray',width=400,height=400)
curveRec = hv.Image(Irec).opts(cmap='gray',width=400,height=400)
pn.Row(curve,curveB,curveRec)


class Debruit_translat(param.Parameterized):
    image = param.ObjectSelector(default="Lenna",objects=imagesRef.keys())
    wave = param.ObjectSelector(default="haar",objects=wavelist)
    NbT = param.Integer(2,bounds=(1,8))
    Sigma = param.Number(10,bounds=(1,30))
    seednoise = param.Integer(1,bounds=(0,50))
    def view(self):
        I = imagesRef[self.image]
        np.random.seed(seed = self.seednoise)
        n1,n2 = I.shape
        Seuil = np.random.randint(1,6)
        print("Seuil = ",Seuil)
        noise = self.Sigma*np.random.randn(n1,n2)
        I_noised = np.clip(I+noise,0,255)
        Irec,P = DebruitTranslation(I_noised,self.wave,Seuil,self.NbT,I)
        p1 = PSNR(I_noised,I)
        p2 = P[-1,-1]
        strp1="%2.2f" % p1
        strp2="%2.2f" % p2
        nom1="image bruitée"
        nom2='PSNR image reconstruite'
        nom3="image originale"
        TN1=pn.Column(LaTeX(nom1,size=15,dpi=100),LaTeX(strp1,size=15,dpi=100))
        TN2=pn.Column(LaTeX(nom2,size=15,dpi=100),LaTeX(strp2,size=15,dpi=100))
        curve=hv.Image(np.clip(I,0,255)).opts(cmap='gray',width=400,height=400)
        curveNoise = hv.Image(np.clip(I_noised,0,255)).opts(cmap='gray',width=400,height=400)
        curveRec=hv.Image(Irec).opts(cmap='gray',width=400,height=400)
        return pn.Column(pn.Row(curve,LaTeX(nom3,size=15,dpi=100)),pn.Row(curveRec,TN2),pn.Row(curveNoise,TN1))


debruit_translat = Debruit_translat()
pn.Row(debruit_translat.param,debruit_translat.view)


def ajouteBruit(im,seednoise,sigma):
    n1,n2,n3=np.shape(im)
    np.random.seed(seed=seednoise)
    bruitcouleur=np.random.randn(n1,n2,n3)
    imb=im+sigma*bruitcouleur
    imb=np.clip(imb,0,255)
    imb=imb.astype('uint8')
    return imb


from PIL import Image
Ca = np.clip(chargeData('Cartoon'),0,255)
options1=dict(xaxis=None,yaxis=None,toolbar=None)
hv.RGB(Ca).opts(**options1)


def reshapeImage(im):
    n1,n2 = im.shape
    dim_max = np.max(im.shape)
    puiss = np.ceil(np.log2(dim_max))
    dim_new = 2**int(puiss)
    im_new = np.zeros((dim_new,dim_new))
    im_new[:n1,:n2] = np.copy(im)
    fill_1 = dim_new-n1
    fill_2 = dim_new-n2
    im_new[n1:,:n2] = np.copy(np.flipud(im[n1-fill_1:,:n2]))
    im_new[:n1,n2:] = np.copy(np.fliplr(im[:n1,n2-fill_2:]))
    im_new[n1:,n2:] = np.copy(np.flipud(np.fliplr(im[n1-fill_1:,n2-fill_2:])))
    return im_new


pn.Row(pn.Column(LaTeX("Blue",size=15,dpi=100),hv.Image(reshapeImage(Ca[:,:,2])).opts(cmap='gray',width=300,height=300)),\
       pn.Column(LaTeX("Green",size=15,dpi=100),hv.Image(reshapeImage(Ca[:,:,1])).opts(cmap='gray',width=300,height=300)),\
       pn.Column(LaTeX("Red",size=15,dpi=100),hv.Image(reshapeImage(Ca[:,:,1])).opts(cmap='gray',width=300,height=300,toolbar=None)))


def Debruit2D(IB,wave,sigma,seuil,NbT):
    n1,n2 = IB.shape
    imres = reshapeImage(IB)
    Lmax = pywt.dwtn_max_level(imres.shape,wave)
    imSum = 0*imres
    for i in range(NbT):
        for j in range(NbT):
            IBtemp1=np.roll(imres,i,axis=0)
            IBtemp2=np.roll(IBtemp1,j,axis=1)
            Irectemp=SeuillageDurOndelettes(IBtemp2,wave,Lmax,seuil*sigma)
            Irectemp1=np.roll(Irectemp,-j,axis=1)
            Irectemp2=np.roll(Irectemp1,-i,axis=0)
            imSum=imSum+Irectemp2
    imDB = imSum/NbT**2
    return imDB[:n1,:n2]


def DebruitCouleur(IB,wave,sigma,seuil,NbT): 
    imDB = np.zeros(IB.shape)
    imDB[:,:,0] = Debruit2D(IB[:,:,0],wave,sigma,seuil,NbT)
    imDB[:,:,1] = Debruit2D(IB[:,:,1],wave,sigma,seuil,NbT)
    imDB[:,:,2] = Debruit2D(IB[:,:,2],wave,sigma,seuil,NbT)
    imDB = np.clip(imDB,0,255)
    return IB,imDB


qmf =wavelist[np.random.randint(0,7)]
print("Wave choisit: ", qmf)
#Create noise
seednoise=np.random.randint(0,50)
sigma=40
T=2
NbT=10

CaB = ajouteBruit(Ca,seednoise,sigma)
_,CaDB = DebruitCouleur(CaB,qmf,sigma,T,NbT)


Cartoon = hv.RGB(Ca.astype('uint8')).opts(xlabel=None,ylabel=None,width=300,height=300)
CartoonB = hv.RGB(CaB.astype('uint8')).opts(xlabel=None,ylabel=None,width=300,height=300)
CartoonDB = hv.RGB(CaDB.astype('uint8')).opts(xlabel=None,ylabel=None,width=300,height=300)
pn.Row(pn.Column(LaTeX("Origin",size=15,dpi=100,),Cartoon),\
       pn.Column(LaTeX("Bruité",size=15,dpi=100),CartoonB),\
       pn.Column(LaTeX("Debruité",size=15,dpi=100),CartoonDB))


def estimeBruit(im,qmf):
    Lmax=pywt.dwtn_max_level(im.shape,qmf)
    wsb=pywt.wavedec(im,qmf,mode='per',level=Lmax)
    mt=np.sqrt(2)*scp.special.erfinv(0.5)
    return np.median(np.abs(wsb[Lmax]))/mt


def Debruit2Dnonsigma(IB,wave,seuil,NbT):
    return Debruit2D(IB,wave,estimeBruit(IB,wave),seuil,NbT)


def DebruitCouleurnonsigma(IB,wave,seuil,NbT):
    imDB = np.zeros(IB.shape)
    imDB[:,:,0] = Debruit2Dnonsigma(IB[:,:,0],wave,seuil,NbT)
    imDB[:,:,1] = Debruit2Dnonsigma(IB[:,:,1],wave,seuil,NbT)
    imDB[:,:,2] = Debruit2Dnonsigma(IB[:,:,2],wave,seuil,NbT)
    imDB = np.clip(imDB,0,255)
    return imDB


Mi = chargeData("Minotaure")
Minotaure=np.clip(Mi,0,255)
hv.RGB(Minotaure.astype('uint8')).opts(xlabel=None,ylabel=None,width=400,height=500)


qmf =wavelist[np.random.randint(0,7)]
print("Wave choisit: ", qmf)
Seuil = 3
NbT = 2
MiDB = DebruitCouleurnonsigma(Minotaure,qmf,Seuil,NbT)
hv.RGB(MiDB.astype('uint8')).opts(xlabel=None,ylabel=None,width=400,height=500)


print(PSNR(MiDB,Mi))


class Debruit_Minotaure(param.Parameterized):
    wave = param.ObjectSelector(default="haar",objects=wavelist)
    NbT = param.Integer(2,bounds=(1,8))
    Seuil = param.Number(3,bounds=(1,6))
    def view(self):
        I_noised = Minotaure
        Irec = DebruitCouleurnonsigma(I_noised,self.wave,self.Seuil,self.NbT)
        nom1="Minotaure"
        nom2="Image debruité"
        curve1=hv.RGB(Minotaure.astype('uint8')).opts(xlabel=None,ylabel=None,width=400,height=500)
        curve2=hv.RGB(Irec.astype('uint8')).opts(xlabel=None,ylabel=None,width=400,height=500)
        return pn.Column(pn.Row(curve1,LaTeX(nom1,size=15,dpi=100)),
                         pn.Row(curve2,LaTeX(nom2,size=15,dpi=100)))


debruitMino = Debruit_Minotaure()
pn.Row(debruitMino.param,debruitMino.view)


experiences_DebruitTrans = {'Image':imagesRef.keys(),
                            'NbT':np.arange(1,5),
                            'wave':wavelist,
                            'Sigma':np.linspace(10,30,2)}
dfexp_DebruitTrans = pd.DataFrame(list(itertools.product(*experiences_DebruitTrans.values()))\
                                  ,columns=experiences_DebruitTrans.keys())


print(dfexp_DebruitTrans)


def ajouteBruit2D(I,seednoise,sigma):
    n1,n2 = I.shape
    np.random.seed(seed=seednoise)
    bruit=np.random.randn(n1,n2)
    IB = I + sigma*bruit
    return IB


def Debruit_Translat_PSNRMoyen(I,wave,sigma,NbT,n,**kwargs):
    Seuil = kwargs.get("Seuil") if kwargs.get("Seuil") else 1
    seednoise = kwargs.get("seednoise") if kwargs.get("seednoise") else 5
    P = 0
    for k in range(n):
        n1,n2 = I.shape
        ISum=0*I
        Lmax=pywt.dwtn_max_level(I.shape,wave)
        IB = ajouteBruit2D(I,seednoise,sigma)
        for i in range(NbT):
            for j in range(NbT):
                IBtemp1=np.roll(IB,i,axis=0)
                IBtemp2=np.roll(IBtemp1,j,axis=1)
                Irectemp=SeuillageDurOndelettes(IBtemp2,wave,Lmax,Seuil*sigma)
                Irectemp1=np.roll(Irectemp,-j,axis=1)
                Irectemp2=np.roll(Irectemp1,-i,axis=0)
                ISum=ISum+Irectemp2
        Irec = ISum/NbT**2
        P+=PSNR(Irec,I)
    return P/n
        


def row2DebruitTrans(row,**kwargs):
    n = 4
    return {'PSNR_Moy' : Debruit_Translat_PSNRMoyen(imagesRef[row.Image],
                                                    row.wave,
                                                    row.Sigma,
                                                    row.NbT,
                                                    n,
                                                    Seuil = kwargs.get("Seuil") if kwargs.get("Seuil") else 3,
                                                    seednoise = 10)}


rowtest = dfexp_DebruitTrans.iloc[4]
print(rowtest)
print(row2DebruitTrans(rowtest))


result_DebruitTrans = dfexp_DebruitTrans.apply(row2DebruitTrans,axis=1)
dfexp_DebruitTrans[['PSNR_Moy']] = pd.DataFrame.from_records(result_DebruitTrans.values)
print(dfexp_DebruitTrans)


h = HoverTool()
dfexp_DebruitTrans.hvplot('NbT','PSNR_Moy',by='wave',kind='scatter',groupby=['Image','Sigma'])\
.opts(width=600,tools = [h]).redim.range(PSNRMoy=(20,40),NbT=(0,5))


def ShannonEntropy(x):
    value,counts = np.unique(x, return_counts=True)
    Proba=counts/len(x)
    Ent=-np.sum(np.log2(Proba)*Proba)
    return Ent


x=np.array([13,13,2,7,13,7,1,13])
print(ShannonEntropy(x))


y=np.array([-2,-3,1,0,1,0,-2,-3])
print(ShannonEntropy(y))


def QuantificationOndelettes(I,qmf,Pas):
    Lmax = pywt.dwtn_max_level(I.shape,qmf)
    wltemp = pywt.wavedecn(I,qmf,mode="per",level=Lmax-1)
    n1,n2 = wltemp[0].shape
    arr,coeff_slices,coeff_shape = pywt.ravel_coeffs(wltemp)
    # on sépare les coeffs d'échelle et d'ondelette
    coeffEch = arr[:n1*n2]
    coeffOnd = arr[n1*n2:]
    # on arrondie les coeffs en fonction du pas
    pasEch = np.arange(np.min(coeffEch),np.max(coeffEch),Pas)
    pasOnd = np.arange(np.min(coeffOnd),np.max(coeffOnd),Pas)
    indEch = np.digitize(coeffEch,pasEch)
    indOnd = np.digitize(coeffOnd,pasOnd)
    arrEch = pasEch[indEch-1]
    arrOnd = pasOnd[indOnd-1]
    # on crée un array des coeffs arrondis
    arrQuant = np.concatenate((arrEch,arrOnd))
    # on construit l'image quantifiée
    wl = pywt.unravel_coeffs(arrQuant,coeff_slices,coeff_shape)
    Irec = pywt.waverecn(wl,qmf,mode="per")
    # on calcule les entropies d'échelle et d'ondelette
    # pour l'image originale et l'image quantifiée
    ent = ShannonEntropy(arr)
    entQuant = ShannonEntropy(arrQuant)
    p = PSNR(Irec,I)
    Irec = np.clip(Irec,0,255)
    return Irec,p,ent,entQuant


imQuant,pQuant,ent,entQuant = QuantificationOndelettes(im,"haar",30)
print("PSNR :",pQuant)
print("Entropie originale :",ent)
print("Entropie quantifiée :",entQuant)
pn.Row(hv.Image(im).opts(cmap='gray',width=400,height=400),
       hv.Image(imQuant).opts(cmap='gray',width=400,height=400))


class WaveQuant(param.Parameterized):
    image = param.ObjectSelector(default="Canaletto",objects=imagesRef.keys())
    wave = param.ObjectSelector(default="haar",objects=wavelist)
    QS = param.Number(30,bounds=(10,300))
    def view(self):
        im = imagesRef[self.image]
        imQuant,pQuant,ent,entQuant = QuantificationOndelettes(im,self.wave,self.QS)
        nom1="image quantifiée"
        nom2="image origin"
        taux = ent/entQuant
        strp = "PSNR :%2.2f" % pQuant 
        strtaux = "Taux de compression :%2.2f" % taux
        TN1=pn.Column(LaTeX(nom1,size=15,dpi=100),LaTeX(strp,size=15,dpi=100),LaTeX(strtaux,size=15,dpi=100))
        TN2=LaTeX(nom2,size=15,dpi=100)
        curve1=hv.Image(imQuant).opts(cmap='gray',width=400,height=400)
        curve2=hv.Image(im).opts(cmap='gray',width=400,height=400)
        return pn.Column(pn.Row(curve1,TN1),pn.Row(curve2,TN2))


wavequant = WaveQuant()
pn.Row(wavequant.param,wavequant.view)


experiences_quant = {'QS':np.linspace(30,200,10),'wave':wavelist}
dfexp_quant = pd.DataFrame(list(itertools.product(*experiences_quant.values())),
                           columns=experiences_quant.keys())


print(dfexp_quant)


def row2DistorsionRate(row):
    imQuant,pQuant,ent,entQuant = QuantificationOndelettes(im,row.wave,row.QS)
    n1,n2 = imQuant.shape
    poid = entQuant*n1*n2
    return {'PoidTheorique' : poid,'PSNR' : pQuant}


rowtest = dfexp_quant.iloc[4]
print(rowtest)
print(row2DistorsionRate(rowtest))


result_quant = dfexp_quant.apply(row2DistorsionRate,axis=1)
dfexp_quant[['PoidTheorique','PSNR']] = pd.DataFrame.from_records(result_quant.values)
print(dfexp_quant)


# print(np.min(dfexp_quant["PoidTheorique"]))


h = HoverTool()
dfexp_quant.hvplot('PSNR','PoidTheorique',by='wave',kind='scatter',groupby=['QS']).opts(width=600,tools = [h]).redim.range(PoidTheorique=(40000,400000),PSNR=(0,30))




