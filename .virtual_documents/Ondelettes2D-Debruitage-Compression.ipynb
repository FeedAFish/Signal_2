import numpy as np
import scipy as scp
import pylab as pyl
import matplotlib.pyplot as plt
import pywt
import scipy.io as sio
import pandas as pd
import holoviews as hv
import param
import panel as pn
from panel.pane import LaTeX
hv.extension('bokeh')
from PIL import Image
from io import BytesIO
import requests


local=0
def chargeData(name):
    if local:
        if name=='Lenna':
            res=np.array(Image.open("./Archive/img/Lenna.jpg")).astype(float)
        if name=='Canaletto':
            res=np.array(Image.open("./Archive/img/Canaletto.jpeg")).astype(float)
        if name=='Minotaure':
            res=np.array(Image.open("./Archive/img/MinotaureBruite.jpeg")).astype(float)   
        if name=='Cartoon':
            res=np.array(Image.open("./Archive/img/Cartoon.jpg")).astype(float) 
    else:
        if name=='Lenna':
            url='https://plmlab.math.cnrs.fr/dossal/optimisationpourlimage/raw/master/img/Lenna.jpg'        
            response = requests.get(url)
            res=np.array(Image.open(BytesIO(response.content))).astype(float)
        if name=='Canaletto':
            url='https://plmlab.math.cnrs.fr/dossal/optimisationpourlimage/raw/master/img/Canaletto.jpeg'
            response = requests.get(url)
            res=np.array(Image.open(BytesIO(response.content))).astype(float)
        if name=='Minotaure':
            url='https://plmlab.math.cnrs.fr/dossal/optimisationpourlimage/raw/master/img/MinotaureBruite.jpeg'
            response = requests.get(url)
            res=np.array(Image.open(BytesIO(response.content))).astype(float)
        if name=='Cartoon':
            url='https://plmlab.math.cnrs.fr/dossal/optimisationpourlimage/raw/master/img/Cartoon.jpg'        
            response = requests.get(url)
            res=np.array(Image.open(BytesIO(response.content))).astype(float)
    return res


im2=chargeData('Lenna')
im=chargeData('Canaletto')
imagesRef= {"Lenna" : im2,"Canaletto" : im}
options = dict(cmap='gray',xaxis=None,yaxis=None,width=400,height=400,toolbar=None)
pn.Row(hv.Raster(imagesRef["Lenna"]).opts(**options),hv.Raster(imagesRef["Canaletto"]).opts(**options))


size=400
WT= pywt.wavedecn(im, 'haar', mode='per', level=1)
arr, coeff_slices = pywt.coeffs_to_array(WT)
hv.Image(arr).opts(cmap='gray',width=size,height=size)


def ApproxOnd2D(S,qmf,L,threshold):
    wltemp = pywt.wavedecn(S,qmf,mode="per",level=L)
    arr,coeff_slices,coeff_shape = pywt.ravel_coeffs(wltemp)
    ncoeffs = np.sum(np.abs(arr)>threshold)
    arr = arr*(np.abs(arr)>threshold)
    wl = pywt.unravel_coeffs(arr,coeff_slices,coeff_shape)
    Srec = pywt.waverecn(wl,qmf,mode="per")
    return Srec,ncoeffs


def PSNR(I,Iref):
    


def ApproxOnd2nonlin(I,qmf,L,N):
    
    return Irec,p


Irec,p=ApproxOnd2nonlin(im,'db2',6,5000)
hv.Image(Irec).opts(cmap='gray',width=400,height=400)


class Approx2D(param.Parameterized):
    image = param.ObjectSelector(default="Canaletto",objects=imagesRef.keys())
    wave = param.ObjectSelector(default="haar",objects=wavelist)
    L = param.Integer(5,bounds=(0,7))
    N = param.Integer(2000,bounds=(1,10000))
  #  @param.depends('wave', 'N', 'L')
    def view(self):
       


approx2D = Approx2D()
pn.Row(approx2D.param,approx2D.view)


import itertools
wavelist = ['haar','db2','db3','db4','coif1','coif2','coif3']
experiences = {'Image':imagesRef,'N':np.linspace(1000,50000,30),'wave':wavelist}
....


print(dfexp)


def row2PSNR(row):
   ...


...


print(dfexp)


import hvplot.pandas


from bokeh.models import HoverTool
h = HoverTool()







#print(dfexp)



def SeuillageDurOndelettes(I,qmf,L,Seuil):

    return Irec


class WaveSeuillage(param.Parameterized):
    image = param.ObjectSelector(default="Canaletto",objects=imagesRef.keys())
    wave = param.ObjectSelector(default="haar",objects=wavelist)
    L = param.Integer(7,bounds=(0,7))
    Seuil = param.Number(10,bounds=(1,1000))
    def view(self):
        ...





n1,n2=np.shape(im)
B=np.random.randn(n1,n2)
sigma=10
ib=im+sigma*B
ib=np.clip(ib,0,255)
hv.Image(ib).opts(cmap='gray',width=400,height=400)



class WaveDebruit(param.Parameterized):
    image = param.ObjectSelector(default="Lenna",objects=imagesRef.keys())
    wave = param.ObjectSelector(default="haar",objects=wavelist)
    L = param.Integer(7,bounds=(0,7))
    Seuil = param.Number(3,bounds=(1,6))
    Sigma = param.Number(10,bounds=(1,30))
    seednoise = param.Integer(1,bounds=(0,50))
    ...





def DebruitTranslation(IB,wave,seuil,NbT):
    ....








class Debruit_translat(param.Parameterized):
    image = param.ObjectSelector(default="Canaletto",objects=imagesRef.keys())
    wave = param.ObjectSelector(default="haar",objects=wavelist)
    NbT = param.Integer(2,bounds=(1,8))
    Sigma = param.Number(10,bounds=(1,30))
    seednoise = param.Integer(1,bounds=(0,50))
    ....


...


Minotaure=np.clip(Mi,0,255)
hv.RGB(Minotaure.astype('uint8')).opts(xlabel=None,ylabel=None,width=400,height=500)


experiences_DebruitTrans = {'Image':imagesRef.keys(),'NbT':np.arange(1,5),'wave':wavelist,'Sigma':np.linspace(10,30,2)}
...


print(dfexp_DebruitTrans)


def Debruit_Translat_PSNRMoyen(I,wave,sigma,NbT,n):
    ...


def row2DebruitTrans(row):
    











def ShannonEntropy(x):
    value,counts = np.unique(x, return_counts=True)
    Proba=counts/len(x)
    Ent=-np.sum(np.log2(Proba)*Proba)
    return Ent


x=np.array([13,13,2,7,13,7,1,13])
print(ShannonEntropy(x))


y=np.array([-2,-3,1,0,1,0,-2,-3])
print(ShannonEntropy(y))


def QuantificationOndelettes(I,qmf,Pas):
    








class WaveQuant(param.Parameterized):
    wave = param.ObjectSelector(default="haar",objects=wavelist)
    QS = param.Number(30,bounds=(10,300))
    ...





experiences_quant = {'QS':np.linspace(30,200,10),'wave':wavelist}
...





def row2DistorsionRate(row):
    













