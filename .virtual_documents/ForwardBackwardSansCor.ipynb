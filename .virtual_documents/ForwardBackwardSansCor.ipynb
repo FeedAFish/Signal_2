import numpy as np
import scipy as scp
import pylab as pyl
import pywt
import pandas as pd
import holoviews as hv
import param
import panel as pn
from panel.pane import LaTeX
hv.extension('bokeh')
import warnings
warnings.filterwarnings('ignore')






Blocks2,Piece,im,im2,Mi=np.load('dataTP.npy')
imagesRef= {"Lenna" : im2,"Canaletto" : im}
options = dict(cmap='gray',xaxis=None,yaxis=None,width=400,height=400,toolbar=None)
pn.Row(hv.Raster(imagesRef["Lenna"]).opts(**options),hv.Raster(imagesRef["Canaletto"]).opts(**options))


def PSNR(I,Iref):
    temp=I.ravel()
    tempref=Iref.ravel()
    NbP=I.size
    EQM=np.sum((temp-tempref)**2)/NbP
    b=np.max(np.abs(tempref))**2
    return 10*np.log10(b/EQM)


np.random.seed(seed=1)
n1,n2=np.shape(im)
r=np.random.rand(n1,n2)
M=(r<0.5)
M = M*1.0


temp=M*im
pn.Row(hv.Image(im).opts(cmap='gray',width=400,height=400),hv.Image(temp).opts(cmap='gray',width=400,height=400))


def FiltreMedian(im,masque,vois):
    imrec=np.copy(im)
    n1,n2=np.shape(im)
    K1=int(np.floor(n1/vois))
    K2=int(np.floor(n2/vois))
    for k1 in np.arange(K1):
        for k2 in np.arange(K2):
            
    return(imrec)


imrec2=FiltreMedian(temp,M,8)
hv.Raster(temp).opts(cmap='gray',xaxis=None,yaxis=None,width=350,height=350)\
+hv.Raster(imrec2).opts(cmap='gray',xaxis=None,yaxis=None,width=350,height=350)


def GradientInpainting(x,b,M):
    
    return g


def SeuillageDouxOndelettes(I,wave,Seuil):
    L=pywt.dwt_max_level(len(I),pywt.Wavelet(wave).dec_len)
    wavelet_coeffs= pywt.wavedecn(I, wave, mode='per', level=L)
    arr, coeff_slices, coeff_shapes = pywt.ravel_coeffs(wavelet_coeffs)
    temp=pywt.threshold(arr,Seuil,mode='soft')
    test=pywt.unravel_coeffs(temp, coeff_slices, coeff_shapes, output_format='wavedecn')
    Irec=pywt.waverecn(test, wave,mode='per')
    return Irec
def Normel1Ondelettes(I,wave):
    L=pywt.dwt_max_level(len(I),pywt.Wavelet(wave).dec_len)
    wavelet_coeffs= pywt.wavedecn(I, wave, mode='per', level=L)
    arr, coeff_slices, coeff_shapes = pywt.ravel_coeffs(wavelet_coeffs)
    norml1=sum(np.abs(arr))
    return norml1


wave='haar'
imrec=SeuillageDouxOndelettes(im,wave,3)


def ForwardBackwardInpaintingv2(y,M,step,lam,Niter,wave):
    
    return np.clip(z,0,255),F


y=M*im
step=0.9
lam=10
Niter=100
wave='haar'
Ta=350
imrec,f=ForwardBackwardInpaintingv2(y,M,step,lam,Niter,wave)
pn.Row(hv.Image(im).opts(cmap='gray',width=Ta,height=Ta),\
       hv.Image(y).opts(cmap='gray',width=Ta,height=Ta)\
       ,hv.Image(imrec).opts(cmap='gray',width=Ta,height=Ta))


hv.Curve(f)


wavelist = ['haar','db2','db3','db4','coif1','coif2','coif3']


class FBInpaint(param.Parameterized):
    wave = param.ObjectSelector(default="haar",objects=wavelist)
    image = param.ObjectSelector(default="Canaletto",objects=imagesRef.keys())
    Niter = param.Integer(10,bounds=(0,300))
    lam = param.Number(10,bounds=(1,30))
    step = param.Number(0.9,bounds=(0.5,4))
    masquage = param.Number(0.5,bounds=(0.1,1))
    def view(self):
        


fbinpaint= FBInpaint()
pn.Row(fbinpaint.param,fbinpaint.view)


def FISTAInpainting(y,M,step,lam,Niter,wave,alpha):
    z=
    z_old=z
    for k in np.arange(0,Niter):
        temp=z+(k/(k+alpha))*(z-z_old)
        
    return np.clip(z,0,255),f


imrec,f=FISTAInpainting(y,M,step,lam,30,wave,4)
pn.Row(hv.Image(im).opts(cmap='gray',width=Ta,height=Ta),\
       hv.Image(y).opts(cmap='gray',width=Ta,height=Ta)\
       ,hv.Image(imrec).opts(cmap='gray',width=Ta,height=Ta))


class FISTAInpaint(param.Parameterized):
    wave = param.ObjectSelector(default="haar",objects=wavelist)
    image = param.ObjectSelector(default="Canaletto",objects=imagesRef.keys())
    Niter = param.Integer(10,bounds=(0,300))
    lam = param.Number(10,bounds=(1,30))
    step = param.Number(0.9,bounds=(0.5,4))
    masquage = param.Number(0.5,bounds=(0.1,1))
    alpha = param.Number(3,bounds=(1,10))
    def view(self):
        


fistainpaint= FISTAInpaint()
pn.Row(fistainpaint.param,fistainpaint.view)


def GradientHor(x):
    y=x-np.roll(x,1,axis=1)
    y[:,0]=0
    return y
def GradientVer(x):
    y=x-np.roll(x,1,axis=0)
    y[0,:]=0
    return y
def DivHor(x):
    N=len(x[0])
    y=x-np.roll(x,-1,axis=1)
    y[:,0]=-x[:,1]
    y[:,N-1]=x[:,N-1]
    return y
def DivVer(x):
    N=len(x)
    y=x-np.roll(x,-1,axis=0)
    y[0,:]=-x[1,:]
    y[N-1,:]=x[N-1,:]
    return y
def Gradient(x):
    y=[]
    y.append(GradientHor(x))
    y.append(GradientVer(x))
    return y
def Div(y):
    x=DivHor(y[0])+DivVer(y[1])
    return x


def ProjGradBouleInf(g,l):
    gh=g[0]
    gv=g[1]
    temp=g
    p0=gh-(gh-l)*(gh>l)-(gh+l)*(gh<-l)
    p1=gv-(gv-l)*(gv>l)-(gv+l)*(gv<-l)
    temp[0]=p0
    temp[1]=p1
    return temp


def FBDenoisingTV(y,l,step,Niter):
    
    return np.clip(x,0,255)


n1,n2=np.shape(im2)
Sigma=30
Noise=np.random.randn(n1,n2)
imb2=im2+Sigma*Noise
imrec2=FBDenoisingTV(imb2,25,0.1,2000)
pn.Row(hv.Image(im2).opts(cmap='gray',width=Ta,height=Ta),\
       hv.Image(np.clip(imb2,0,255)).opts(cmap='gray',width=Ta,height=Ta)\
       ,hv.Image(imrec2).opts(cmap='gray',width=Ta,height=Ta))




class DenoisingTVFB(param.Parameterized):
    Niter = param.Integer(100,bounds=(0,500))
    image = param.ObjectSelector(default="Canaletto",objects=imagesRef.keys())
    lam = param.Number(9,bounds=(1,50))
    step = param.Number(0.1,bounds=(0.1,2))
    Sigma = param.Number(17,bounds=(1,100))
    


denoisingTVFB=DenoisingTVFB()
pn.Row(denoisingTVFB.param,denoisingTVFB.view)






