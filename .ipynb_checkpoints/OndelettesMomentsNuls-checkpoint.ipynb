{
 "cells": [
  {
   "cell_type": "markdown",
   "metadata": {},
   "source": [
    "# Ondelettes et moments nuls"
   ]
  },
  {
   "cell_type": "markdown",
   "metadata": {},
   "source": [
    "## Motivations"
   ]
  },
  {
   "cell_type": "markdown",
   "metadata": {},
   "source": [
    "Nous avons vu au premier semestre que les fonctions $2\\pi$-périodiques admettant un grand nombre de dérivées continues se représentent bien dans le domaine de Fourier c'est à dire que de telles fonctions s'approchent facilement par des polynômes trigonométriques. Dès qu'une discontinuité apparait à un endroit dans le signal, cette jolie propriété disparait. Comme nous allons l'illustrer sur les signaux de référence."
   ]
  },
  {
   "cell_type": "code",
   "execution_count": null,
   "metadata": {},
   "outputs": [],
   "source": [
    "import numpy as np\n",
    "import scipy as scp\n",
    "import pylab as pyl\n",
    "import matplotlib.pyplot as plt\n",
    "import pywt\n",
    "import scipy.io as sio\n",
    "import pandas as pd\n",
    "import holoviews as hv\n",
    "hv.extension('bokeh')\n",
    "import param\n",
    "import panel as pn\n",
    "import requests\n",
    "from io import BytesIO\n",
    "from PIL import Image\n",
    "import shutil\n",
    "from scipy import fftpack\n",
    "#pn.extension()\n"
   ]
  },
  {
   "cell_type": "markdown",
   "metadata": {},
   "source": [
    "Chargement des données soit à partir d'un fichier local, soit à partir d'une url."
   ]
  },
  {
   "cell_type": "code",
   "execution_count": null,
   "metadata": {},
   "outputs": [],
   "source": [
    "local=0\n",
    "if local:\n",
    "    S3=np.load('Piece.npy')\n",
    "    S4=np.load('Blocks.npy')   \n",
    "else:\n",
    "    url='https://plmlab.math.cnrs.fr/dossal/optimisationpourlimage/raw/master/img/Blocks.npy'\n",
    "    response = requests.get(url, stream=True)\n",
    "    with open('blocks.npy', 'wb') as fin:\n",
    "        shutil.copyfileobj(response.raw, fin)\n",
    "    S4=res=np.load('blocks.npy')\n",
    "    url='https://plmlab.math.cnrs.fr/dossal/optimisationpourlimage/raw/master/img/Piece.npy'\n",
    "    response = requests.get(url, stream=True)\n",
    "    with open('piece.npy', 'wb') as fin:\n",
    "        shutil.copyfileobj(response.raw, fin)\n",
    "    S3=res=np.load('piece.npy')\n",
    "options = dict(width=800,height=150,toolbar=None,xaxis=None,yaxis=None)\n",
    "options2 = dict(width=600,height=250,toolbar=None,xaxis=None,yaxis=None)\n",
    "\n",
    "pn.Column(hv.Curve(S3).opts(**options).opts(title='Signal Piece-Regular'),hv.Curve(S4).opts(**options,title='Blocks'))"
   ]
  },
  {
   "cell_type": "code",
   "execution_count": null,
   "metadata": {},
   "outputs": [],
   "source": [
    "ramp=np.arange(0,1024)/1024\n",
    "def fonc1(t):\n",
    "    if t<1/3:\n",
    "        y=t**2\n",
    "    elif t<2/3:\n",
    "        y=t/5\n",
    "    else:\n",
    "        y=t*(1-t)\n",
    "    return 10*y            \n",
    "vfonc1=np.vectorize(fonc1)\n",
    "f1=vfonc1(ramp)\n",
    "def fonc2(t):\n",
    "    if t<1/3:\n",
    "        y=t**3\n",
    "    elif t<2/3:\n",
    "        y=-0.1-t**2/2+2*t/3\n",
    "    else:\n",
    "        y=t*(1-t)*t\n",
    "    return 30*y \n",
    "vfonc2=np.vectorize(fonc2)\n",
    "vfonc1=np.vectorize(fonc1)\n",
    "f1=vfonc1(ramp)\n",
    "f2=vfonc2(ramp)"
   ]
  },
  {
   "cell_type": "code",
   "execution_count": null,
   "metadata": {},
   "outputs": [],
   "source": [
    "signauxRef= {\"Piece\" : S3*2,\"Blocks\" : S4*2,\"Ramp\":2*ramp,\"Para\" : f1, \"Cubic\":f2}"
   ]
  },
  {
   "cell_type": "markdown",
   "metadata": {},
   "source": [
    "Les programmes suivants permettent de calculer les approximations non linéaires dans une base d'ondelettes et dans une base de Fourier."
   ]
  },
  {
   "cell_type": "code",
   "execution_count": null,
   "metadata": {},
   "outputs": [],
   "source": [
    "def ApproxOnd1Dv2(S,qmf,L,N):\n",
    "    N1=len(S)\n",
    "    Lmax=pywt.dwt_max_level(len(S),pywt.Wavelet(qmf).dec_len)\n",
    "    L1=min(L,Lmax)\n",
    "    WT= pywt.wavedecn(S, qmf, mode='per', level=L1)\n",
    "    arr, coeff_slices = pywt.coeffs_to_array(WT)\n",
    "    Ind=np.argsort(np.abs(arr))\n",
    "    WTS=np.zeros(N1)\n",
    "    WTS[Ind[N1-N:N1]]=arr[Ind[N1-N:N1]]\n",
    "    coeffs_from_arr = pywt.array_to_coeffs(WTS, coeff_slices)\n",
    "    Srec=pywt.waverecn(coeffs_from_arr,qmf,mode='per')\n",
    "    return Srec\n",
    "def ApproxFourier2(s,n):\n",
    "    N=np.shape(s)[0]\n",
    "    fs=fftpack.fft(s)\n",
    "    afs=np.abs(fs)\n",
    "    temp=np.argsort(afs)\n",
    "    fsrec=fs*0\n",
    "    fig=hv.Curve(s)\n",
    "    for k in np.arange(1,2*n+1):\n",
    "        fsrec[temp[N-k]]=fs[temp[N-k]]\n",
    "    fapprox=np.real(fftpack.ifft(fsrec))\n",
    "    return fapprox#,fsrec,fig"
   ]
  },
  {
   "cell_type": "code",
   "execution_count": null,
   "metadata": {},
   "outputs": [],
   "source": [
    "wavelist = ['haar','db2','db3','db4','coif1','coif2','coif3']\n",
    "def PSNR(I,Iref):\n",
    "    temp=I.ravel()\n",
    "    tempref=Iref.ravel()\n",
    "    NbP=I.size\n",
    "    EQM=np.sum((temp-tempref)**2)/NbP\n",
    "    b=np.max(np.abs(tempref))**2\n",
    "    return 10*np.log10(b/EQM)"
   ]
  },
  {
   "cell_type": "code",
   "execution_count": null,
   "metadata": {},
   "outputs": [],
   "source": [
    "class OndelettesVSFourier(param.Parameterized):\n",
    "    sig = param.ObjectSelector(default=\"Piece\",objects=signauxRef.keys())\n",
    "    wave = param.ObjectSelector(default=\"db2\",objects=wavelist)\n",
    "    N = param.Integer(100,bounds=(1,400))\n",
    "    #@param.depends('wave', 'T', 'L')\n",
    "    def view(self):\n",
    "        S=signauxRef[self.sig]\n",
    "        S_ond=ApproxOnd1Dv2(S,self.wave,8,self.N)\n",
    "        S_Four=ApproxFourier2(S,self.N)\n",
    "        p1=PSNR(S_ond,S)\n",
    "        p2=PSNR(S_Four,S)\n",
    "        strp1=\"%2.2f\" % p1\n",
    "        strp2=\"%2.2f\" % p2\n",
    "        return pn.Column(hv.Curve(S_ond).opts(**options2,title='Approximation en ondelettes')\\\n",
    "                         *hv.Text(512,0.9,'PNSR='+strp1)\\\n",
    "                         ,hv.Curve(S_Four).opts(**options2,title='Approximation dans le domaine de Fourier')\\\n",
    "                        *hv.Text(512,0.9,'PNSR='+strp2))"
   ]
  },
  {
   "cell_type": "markdown",
   "metadata": {},
   "source": [
    "Pour Rappel, le PSNR est une mesure de qualité d'un signal, calculé relativement à un signal de référence, plus il est élevé plus le signal dégradé est proche du signal original, plus il est faible, moins bon est l'approximation. Ce que vous devriez vérifier ici c'est que sur les signaux réguliers par morceaux, les bases d'ondelettes sont souvent bien plus performantes que la base de Fourier."
   ]
  },
  {
   "cell_type": "code",
   "execution_count": null,
   "metadata": {},
   "outputs": [],
   "source": [
    "OVF = OndelettesVSFourier()\n",
    "pn.Row(OVF.param,OVF.view)"
   ]
  },
  {
   "cell_type": "markdown",
   "metadata": {},
   "source": [
    "Nous allons voir que cette propriété des ondelettes à bien approcher les signaux réguliers par morceaux est liée aux moments nulles de l'ondelette $\\psi$."
   ]
  },
  {
   "cell_type": "markdown",
   "metadata": {},
   "source": [
    "## Que sont les moments des ondelettes ?"
   ]
  },
  {
   "cell_type": "markdown",
   "metadata": {},
   "source": [
    "Par définition le moment d'ordre $l$ d'une ondelette $\\psi$ est \n",
    "\\begin{equation}\n",
    "\\int_{t\\in\\mathbb{R}}\\psi(t)t^ldt\n",
    "\\end{equation}\n",
    "On dit qu'une ondelette admet $p>0$ moments nuls si $\\forall l\\leqslant p-1$, \n",
    "\\begin{equation}\n",
    "\\int_{t\\in\\mathbb{R}}\\psi(t)t^ldt=0\n",
    "\\end{equation}\n",
    "On peut faire pluiseurs remarques importantes :\n",
    "\\begin{enumerate}\n",
    "\\item Si $\\psi$ admet $p$ moments nuls alors pour tout polynôme $Q$ de degré strictement inférieur à $p$ on a \n",
    "\\begin{equation}\n",
    "\\int_{t\\in\\mathbb{R}}\\psi(t)Q(t)dt=0\n",
    "\\end{equation}\n",
    "par linéarité de  l'intégrale.\n",
    "\\item Pour tout $(j,k)$ et pour tout polynôme $Q$ de degré strictement inférieur à $p$ on a \n",
    "\\begin{equation}\n",
    "\\langle Q,\\psi_{j,k}\\rangle:=\\int_{t\\in\\mathbb{R}}\\psi_{j,k}(t)Q(t)dt=0\\qquad\\text{ où }\\qquad\\psi_{j,k}(x)=2^{-\\frac{j}{2}}\\psi(2^{-j}x-k)\n",
    "\\end{equation}\n",
    "Je vous laisse la preuve en exercice, il suffit juste de faire le changement de variable $y=2^{-j}x-k$...\n",
    "\\item Si l'ondelette $\\psi$ est à support compact, c'est-à-dire nulle, en dehors d'un intervalle fermé borné $[a,b]$, alors le calcul du produit scalaire peut s'écrire comme une intégrale sur un intervalle fini :\n",
    "\\begin{equation}\n",
    "\\int_{t\\in\\mathbb{R}}\\psi(t)Q(t)dt=\\int_{t=a}^{b}\\psi(t)Q(t)dt.\n",
    "\\end{equation}\n",
    "et donc \n",
    "\\begin{equation}\n",
    "\\int_{t\\in\\mathbb{R}}\\psi_{j,k}(t)Q(t)dt=\\int_{t=2^{j}(a+k)}^{2^{j}(b+k)}\\psi_{j,k}(t)Q(t)dt.\n",
    "\\end{equation}\n",
    "Cette dernière égalité indique que si une fonction $f$ coincide avec un polynôme de degré strictement inférieur à $p$ sur l'intervalle $[2^{j}(a+k),2^{j}(b+k)]$ alors le coefficient d'ondelettes $\\langle f,\\psi_{j,k}\\rangle=0$. \n",
    "\\item Notez que l'intervalle $[a,b]$ dépend de la base d'ondelette. Par exemple pour l'ondelette de Haar, $[a,b]=[0,1]$. Pour les autres bases que nous utiliserons ensemble, comme les bases d'ondelettes de Daubechies ou de Coifman ces intervalles seront différents, toujours plus grands que $[0,1]$ mais toujours bornés.\n",
    "\\end{enumerate}\n",
    "Ainsi, si une ondelette $\\psi$ admet $p$ moments nuls alors et si $Q$ est un polynôme de degré strictement inférieur à $p$ alors pour tout $j\\in\\mathbb{Z}$ la projection de $Q$ sur $W_j=Vect(\\psi_{j,k})_{k\\in\\mathbb{Z}}$ est la fonction identiquement égale à 0. Mais cette propriété n'a que peu d'utilité pratique dans la mesure où on a rarement à calculer les coefficients d'ondelettes d'un polynôme. \n",
    "\n",
    "En revanche il est très important de noter que si une fonction $f$ coincide localement avec un polynôme, alors certains coefficents d'ondelettes seront nuls. Notez que si $j<0$ devient assez petit, $j<-5$ par exemple, la taille des intervalles $[2^{-j}a-k,2^{-j}b-k]$ devient très petite et sur de très petits intervalles, dire qu'une fonction coincide avec un polynome n'est pas déraisonnable. \n",
    "\n",
    "Plus présicément si $f$ est $C^p$ par morceaux, on sait que localement la fonction $f$ pourra être approchée par un polynome de degré $p$, via un développement de Taylor par exemple. Ainsi pour une ondelette $\\psi_{j,k}$, si la fonction $f$ est $C^p$ sur l'intervalle $[2^{j}(a+k),2^{j}(b+k)]$, c'est-à-dire le support de l'ondelette $\\psi_{j,k}$, alors \n",
    "\\begin{equation}\n",
    "\\langle f,\\psi_{j,k}\\rangle \\approx 0.\n",
    "\\end{equation}\n",
    "Nous allons vérifier cela sur des exemples."
   ]
  },
  {
   "cell_type": "code",
   "execution_count": null,
   "metadata": {},
   "outputs": [],
   "source": [
    "\n",
    "def VisuOnd(N,qmf,scale,k):\n",
    "    Lmax=pywt.dwt_max_level(N,pywt.Wavelet(qmf).dec_len)\n",
    "    L=min(scale,Lmax)\n",
    "    Ne=int(np.floor(N/2**L))\n",
    "    temp=np.zeros(N)\n",
    "    WT= pywt.wavedecn(temp, qmf, mode='per', level=L)\n",
    "    arr, coeff_slices = pywt.coeffs_to_array(WT)\n",
    "    temp[k+Ne]=1\n",
    "    coeffs_from_arr = pywt.array_to_coeffs(temp, coeff_slices)\n",
    "    Psi=pywt.waverecn(coeffs_from_arr,qmf,mode='per')*2**(scale/2)\n",
    "    return Psi\n",
    "\n",
    "def VisuPhi(N,qmf,scale,k):\n",
    "    Lmax=pywt.dwt_max_level(N,pywt.Wavelet(qmf).dec_len)\n",
    "    L=min(scale,Lmax)\n",
    "    Ne=int(np.floor(N/2**L))\n",
    "    temp=np.zeros(N)\n",
    "    WT= pywt.wavedecn(temp, qmf, mode='per', level=L)\n",
    "    arr, coeff_slices = pywt.coeffs_to_array(WT)\n",
    "    temp[k]=1\n",
    "    coeffs_from_arr = pywt.array_to_coeffs(temp, coeff_slices)\n",
    "    Phi=pywt.waverecn(coeffs_from_arr,qmf,mode='per')*2**(scale/2)\n",
    "    return hv.Curve(Phi).opts(**options2,color='red')"
   ]
  },
  {
   "cell_type": "code",
   "execution_count": null,
   "metadata": {},
   "outputs": [],
   "source": [
    "class Visu(param.Parameterized):\n",
    "    sig = param.ObjectSelector(default=\"Para\",objects=signauxRef.keys())\n",
    "    wave = param.ObjectSelector(default=\"db2\",objects=wavelist)\n",
    "    scale= param.Integer(6,bounds=(4,6))\n",
    "    k= param.Integer(7,bounds=(0,64))\n",
    "    def view(self):\n",
    "        k2=min(self.k,2**(10-self.scale))\n",
    "        s=signauxRef[self.sig]\n",
    "        N=2**10\n",
    "        t=np.arange(0,N)/N\n",
    "        scale=self.scale  \n",
    "        Psi=VisuOnd(N,self.wave,scale,k2)\n",
    "        Affich=hv.Curve(Psi).opts(**options2,color='red')\n",
    "        I=np.where(np.abs(Psi)>0)\n",
    "        s2=0*s\n",
    "        s2[I]=s[I]\n",
    "        WT= pywt.wavedec(s,self.wave, mode='per', level=7)\n",
    "        coefs=WT[7-scale+1]\n",
    "        coefs2=0*coefs\n",
    "        coefs2[k2]=coefs[k2]\n",
    "        strscale=\"%2.0f\" % scale\n",
    "        return pn.Column(hv.Curve(s).opts(**options2,title='Signal étudié')*hv.Area(s2).opts(color='red')*Affich.opts(color='black')\\\n",
    "                                          ,hv.Bars(coefs).opts(**options2,title='Coefficients sur W-'+strscale)\\\n",
    "                         *hv.Bars(coefs2).opts(color='red'))"
   ]
  },
  {
   "cell_type": "markdown",
   "metadata": {},
   "source": [
    "Essayons le visualiser le nombre de moments nuls des différentes ondelettes avec le dashboard qui suit :\n",
    "\\begin{enumerate}\n",
    "\\item L'ondelette de Haar, ne produit des coefficients d'ondelettes nuls que sur les parties constantes des signaux (voir Blocks), mais jamais sur les parties affines (voir Ramp). L'ondelette de Haar n'a ainsi qu'un seul moment nul, celui d'ordre 0, elle vérifie juste \n",
    "\\begin{equation}\n",
    "\\int_{t\\in\\mathbb{R}}\\psi(t)dt=0.\n",
    "\\end{equation}\n",
    "On peut remarquer sur le signal Blocks qu'une discontinuité sur le signal produit au plus un coefficient non nul par échelle. Cette propriété est liée au fait que la longueur de l'intervalle $[a,b]=[0,1]$ support d'ondelette de Haar est 1. \n",
    "\\item Les ondelette de Daubechies, dites db2, et de Coifman, dites coif1, produisent des coefficients d'ondelettes nulles sur les parties constantes et affines des signaux (voir blocks, Ramp et Para), mais pas sur les parties paraboliques. Ces deux ondelettes vérifient \n",
    "\\begin{equation}\n",
    "\\int_{t\\in\\mathbb{R}}\\psi(t)dt=0 \\qquad \\text{ et } \\qquad \\int_{t\\in\\mathbb{R}}t\\psi(t)dt=0 \n",
    "\\end{equation}\n",
    "Elles admettent deux moments nulles. En regardant attentivement à l'échelle 4 sur Para vous pourrez voir que chaque discontinuité du signal n'induit qu'au maximum 3 coefficients non nuls pour l'ondelette db1 et 4 pour coif1. A nouveau ce nombre est liée à la longueur de l'intervalle $[a,b]$ support de l'ondelette $\\psi=\\psi_{0,0}$ qui est également lié au nombre de coefficients non nuls du filtre $(h_n)_{n}$ associée à la base d'ondelettes. \n",
    "\\item De même vous pouvez déterminer le nombre de moments nuls des autres ondelettes en utilisant le fait que les signaux para et cubic sont polynomiaux par morceaux. Voir au début du notebook, comment ils ont été définis.  \n",
    "\\item Le signal Piece n'étant pas polynomial par morceaux mais régulier par morceaux (c'est-à-dire $C^k$ par morceaux pour k valant 2 ou 3), les coefficients d'ondelettes sur les parties régulières ne sont pas parfaitement nuls, mais ils sont très faibles, car la fonction est localement très proche d'un polynome mais ne coincide par exactement avec un polynome.   \n",
    "\\end{enumerate}"
   ]
  },
  {
   "cell_type": "markdown",
   "metadata": {},
   "source": [
    "Dans le dashboard suivant, voud pouvez choisir un signal de référence, une base d'ondelettes, un espace W_j dont vous visualiserez tous les coefficients en bleu et une ondelette en particulier. A droite sur le shéma du haut, l'ondelette spécifié par k est visible. En rouge, la partie du signal qui intervient dans le calcul du produit scalaire avec l'ondelette. En bas en rouge, le coefficient associé à l'ondelette visible sur le shéma du haut. \n",
    "Si l'ondelette admet 2 moment nuls, alors sur les parties affines du signal, les coefficients doivent être nuls. si elle admet 3 moments nuls, sur les parties affines et paraboliques, les coefficients doivent être nuls. "
   ]
  },
  {
   "cell_type": "code",
   "execution_count": null,
   "metadata": {
    "scrolled": false
   },
   "outputs": [],
   "source": [
    "vis= Visu()\n",
    "pn.Row(vis.param,vis.view)"
   ]
  },
  {
   "cell_type": "markdown",
   "metadata": {},
   "source": [
    "Question : Quelle est la base d'ondelettes la plus efficace pour approcher Blocks ? Ramp ? Para ? Cubic ? Pourquoi ?"
   ]
  },
  {
   "cell_type": "markdown",
   "metadata": {},
   "source": [
    "## Lien entre les moments nuls de $\\psi$ et la suite $(h_n)_n\\in\\mathbb{Z}$."
   ]
  },
  {
   "cell_type": "markdown",
   "metadata": {},
   "source": [
    "Question 1 : Justifier que \n",
    "\\begin{equation}\n",
    "\\int_{t\\in\\mathbb{R}}\\psi(t)dt=0\\Longleftrightarrow \\hat \\psi(0)=0.\n",
    "\\end{equation}\n",
    "puis que \n",
    "\\begin{equation}\n",
    "\\psi \\text{ admet 2 moments nuls}\\Longleftrightarrow \\hat\\psi(0)=0 \\quad\\text{et}\\quad(\\hat \\psi)'(0)=0. \n",
    "\\end{equation}\n",
    "On peut en fait démontrer plus généralement que \n",
    "\\begin{equation}\n",
    "\\psi \\text{ admet p moments nuls}\\Longleftrightarrow \\hat\\psi(0)=0 \\quad\\text{et pour tout }k<p\\quad \\quad(\\hat \\psi)^{(k)}(0)=0. \n",
    "\\end{equation}\n",
    "Autrement dit, le nombre de moments nuls d'une ondelette se traduit sur les propriétés de $\\hat \\psi$ au point $0$.\n",
    "\n",
    "On rappelle des formules du cours qui font le lien entre les transformées de Fourier de $\\phi,\\,\\psi$ et celles des filtres $h$ et $g$ :\n",
    "\\begin{equation}\n",
    "\\hat \\phi(2\\omega)=\\hat h(\\omega)\\hat \\phi(\\omega)\n",
    "\\end{equation}\n",
    "\\begin{equation}\n",
    "\\hat \\psi(2\\omega)=\\hat g(\\omega)\\hat \\phi(\\omega)\n",
    "\\end{equation}\n",
    "\\begin{equation}\n",
    "\\hat g(\\omega)=e^{i\\omega}\\overline{\\hat h(\\omega+\\pi)}.\n",
    "\\end{equation}\n",
    "Question 2 : Rappeler la valeur de $\\hat h(0)$ et justifier que $\\hat \\phi(0)=1$ en utilisant le théorème de Mallat-Meyer. En déduire que toutes les ondelettes ont au moins un moment nul.\n",
    "\n",
    "Question 3 : Justifier que \n",
    "\\begin{equation}\n",
    "|\\hat h(\\omega)|^2+|\\hat g(\\omega)|^2=2.\n",
    "\\end{equation}\n",
    "On rappelle que les ondelettes et les fonctions d'échelle que nosu considérons sont à support compact et qu'en conséquence les transformées de Fourier de ces fonctions sont infiniément dérivables. Les filtres $(h_n)_{n}$ et $(g_n)_n$ étant fini, il en va de même pour $\\hat h$ et $\\hat g$.\n",
    "\n",
    "Question 4 : Montrer que l'ondelette $\\psi$ a deux moments nuls si et seulement si $(\\hat h)'(\\pi)=0$.\n",
    "\n",
    "Question 5 : Que vaut $(\\hat h)'(\\pi)$ dans le cas de l'ondelette de Haar. Est ce cohérent avec ce que nous avons vu précédemement ?\n",
    "\n",
    "Question 6 : Montrer que l'ondelette $\\psi$ a trois moments nuls si et seulement si $(\\hat h)'(\\pi)=0$ et $(\\hat h)^{(2)}(\\pi)=0$. On admettra par la suite que $\\psi$ admet $p$ moments nuls si toute les dérivées d'ordre $k<p$ de $\\hat h$ au point $\\pi$ sont nulles. \n",
    "\n",
    "Comme les fonctions $\\hat \\psi$ et $\\hat h$ sont des fonctions à valeurs complexes, elles sont difficiles à représenter. Pour pouvoir manipuler et afficher plus simplement ces fonctions, nous allons introduire un polynôme \n",
    "$P$ associé au polynôme trigonométrique $\\hat h$. Ce polynôme est défini de manière à ce que \n",
    "$\\hat h(\\omega)= P(e^{-i\\omega})$ et premettra des représentations et des calculs plus simples."
   ]
  },
  {
   "cell_type": "markdown",
   "metadata": {},
   "source": [
    "Plus précisément On définit le polynôme $P$ associé à $h$ de la manière suivante.\n",
    "\\begin{equation}\n",
    "P(z)=\\sum_{n}h_nz^n.\n",
    "\\end{equation}\n",
    "\n",
    "Question 7 : Soit $(h_n)_n$ un filtre vérifiant le théorème de Mallat-Meyer, que vaut $P(1)$ ? et $P(-1)$ ?\n",
    "On pourra faire le lien entre les valeurs de $P$ et celles de $\\hat h$.\n",
    "\n",
    "Question 8 : En déduire les seules valeurs possibles de $h_0$ et $h_1$ si ces seuls coefficients sont non nuls. A quelle ondelette, ce choix correspond il ?\n",
    "\n",
    "Question 9 : Justifier que $\\psi$ admet deux moments nuls si et seulement si $P'(-1)=0$."
   ]
  },
  {
   "cell_type": "code",
   "execution_count": null,
   "metadata": {},
   "outputs": [],
   "source": [
    "N=2**14\n",
    "h=np.zeros(2)\n",
    "h[0]=np.sqrt(2)/2\n",
    "h[1]=np.sqrt(2)/2\n",
    "t=np.linspace(-1,1,N)\n",
    "P=h[0]+h[1]*t\n",
    "hv.Curve((t,P)).opts(width=800,title='Polynome P associé à Haar, pas de dérivée nulle en -1')"
   ]
  },
  {
   "cell_type": "markdown",
   "metadata": {},
   "source": [
    "Sans vous demander de comprendre exactement les lignes suivantes, vous pouvez observer les polynômes $P$ associés aux ondelettes de Daubechies 2 et 3. "
   ]
  },
  {
   "cell_type": "code",
   "execution_count": null,
   "metadata": {},
   "outputs": [],
   "source": [
    "Ond=VisuPhi(1024,'db2',1,1)\n",
    "Ond1=np.array(Ond.data)\n",
    "h=Ond1[1:5,1]/np.sqrt(2)\n",
    "print(h)\n",
    "Pdb1=h[0]+h[1]*t+h[2]*t**2+h[3]*t**3\n",
    "hv.Curve((t,Pdb1)).opts(width=800,title='Polynome P associé à Db2, une dérivée nulle en -1')"
   ]
  },
  {
   "cell_type": "code",
   "execution_count": null,
   "metadata": {},
   "outputs": [],
   "source": [
    "Ond=VisuPhi(1024,'db3',1,2)\n",
    "Ond1=np.array(Ond.data)\n",
    "h=Ond1[2:8,1]/np.sqrt(2)\n",
    "print(h)\n",
    "Pdb1=h[0]+h[1]*t+h[2]*t**2+h[3]*t**3+h[4]*t**4+h[5]*t**5\n",
    "hv.Curve((t,Pdb1)).opts(width=800,title='Polynome P associé à Db3, deux dérivées nulles en -1')"
   ]
  },
  {
   "cell_type": "markdown",
   "metadata": {},
   "source": [
    "## Construction des ondelettes de Daubechies."
   ]
  },
  {
   "cell_type": "markdown",
   "metadata": {},
   "source": [
    "Ingrid Daubechies \n",
    "https://en.wikipedia.org/wiki/Ingrid_Daubechies\n",
    "a proposé une construction de bases d'ondelettes en cherchant les suites (ou filtres) $(h_n)_n$ vérifiant le théorème de Mallat-Meyer, assurant un nombre donné de moments nuls de l'ondelette associée et avec le moins de coefficients possibles. En effet on peut montrer que le nombre de coefficients non nuls de $(h_n)_n$ est directement lié à la taille du support de l'ondelette. Or plus la taille du support de l'ondelette $\\psi=\\psi_{0,0}$ est petit, moins de coefficients de grande amplitude seront produits au niveau des discontinuités d'une fonction donnée.\n",
    "\n",
    "Nous venons de voir que si le filtre $(h_n)_n$ vérifie le théorème de Mallat-Meyer alors le polynome \n",
    "$P(z)=\\sum_n h_nz^n$ vérifiait nécessairement $P(1)=\\sqrt{2}$ et $P(-1)=0$. \n",
    "\n",
    "Si on suppose que pour tout $n\\notin\\{0,1\\},\\,h_n=0$, le seul choix possible est celui de Haar : \n",
    "$P(z)=\\frac{\\sqrt{2}}{2}(1+z)$. Or pour ce choix \n",
    "\\begin{equation}\n",
    "P'(-1)\\neq 0\\Longrightarrow (\\hat h)'(\\pi)\\neq 0\\Longrightarrow (\\hat g)'(0)\\neq 0\\Longrightarrow (\\hat \\psi)'(0)\\neq 0\\Longrightarrow \\int_{t\\in\\mathbb{R}}t\\psi(t)dt\\neq 0\n",
    "\\end{equation}\n",
    "c'est-à-dire que l'ondelette de Haar a un moment d'ordre 1 qui est non nul."
   ]
  },
  {
   "cell_type": "markdown",
   "metadata": {},
   "source": [
    "## A la recherche de db2."
   ]
  },
  {
   "cell_type": "markdown",
   "metadata": {},
   "source": [
    "On va donc chercher un filtre $(h_n)_n$ le plus petit possible vérifiant le théorème de Mallat-Meyer et vérifiant :\n",
    "\\begin{enumerate}\n",
    "\\item $P(1)=1$\n",
    "\\item $P(-1)=0$\n",
    "\\item $P'(-1)=0$.\n",
    "\\end{enumerate}\n",
    "On pourrait commencer à chercher un filtre de taille 3 mais aucun filtre vérifiant le théorème de Mallat-Meyer n'est de taille impaire. En effet dans la feuille de TD2 nous avons vu que l'orthogonalité des fonctions $(\\phi_n)_n$ impliquait que pour tout $k\\neq 0$ nous avons \n",
    "\\begin{equation}\\label{psphi}\n",
    "\\langle \\phi_{0,0},\\phi_{k,0}\\rangle=\\sum_{n}h_{n-2k}h_n=0.\n",
    "\\end{equation}\n",
    "Or si les seuls coefficients non nuls de $h$ sont les coefficents $h_m$ pour $m\\in\\{0,2p\\}$ alors en faisant $k=p$ dans l'expression précédente, on déduit que $h_0h_{2p}=0$ donc soit $h_0$ soit $h_{2p}$ est nul... donc le filtre est de taille pair (je vous laisse réfléchir deux minutes à ce raisonnemment)."
   ]
  },
  {
   "cell_type": "markdown",
   "metadata": {},
   "source": [
    "On va donc chercher un filtre de taille 4 qui fera l'affaire, ce qui revient à chercher un polynôme de degré 3\n",
    "$P(z)=\\sum_{n=0}^3h_nz^n$ vérifiant $P(1)=\\sqrt{2},\\,P(-1)=0$ et $P'(-1)=0$."
   ]
  },
  {
   "cell_type": "markdown",
   "metadata": {},
   "source": [
    "Question 10 : Justifier qu'il existe $a$ et $b$ tel que $P(z)=a(z-b)(z+1)^2$ avec $a=\\frac{\\sqrt{2}}{4(1-b)}$\n",
    "\n",
    "Question 11 : Exprimer les $(h_n)_n$ en fonction de $a$ et $b$.\n",
    "\n",
    "Question 12 : En utilisant la relation \\eqref{psphi} pour $k=1$, montrer que \n",
    "\\begin{equation}\n",
    "b^2-4b+1=0\n",
    "\\end{equation}\n"
   ]
  },
  {
   "cell_type": "markdown",
   "metadata": {},
   "source": [
    "Deux choix de $b$ sont donc possibles, $b=2+\\sqrt{3}$ et $b-\\sqrt{3}$. On peut peut que ces deux choix mènent à deux solutions symétriques (on obtient deux filtres miroirs). La convention qui est utilisée est de prendre $b=2-\\sqrt{3}$, les ondelettes associées sont appelées les ondelettes de Daubechies 2. Ainsi à une symétrie près il n'esxiste qu'une seule base d'ondelettes orthogonales ayant 2 moments nulles et construites à partir d'un filtre de taille 4."
   ]
  },
  {
   "cell_type": "markdown",
   "metadata": {},
   "source": [
    "Question 13 : Exprimer les valeurs du filtre de Daubechies 2."
   ]
  },
  {
   "cell_type": "markdown",
   "metadata": {},
   "source": [
    "Les Ondelettes de Coifman 1 ont également 2 moments nuls mais sont construites avec un filtre de taille 6. Ces ondelettes sont plus régululières et plus symétriques dans leur forme que les ondelettes de Daubechies."
   ]
  },
  {
   "cell_type": "markdown",
   "metadata": {},
   "source": [
    "## Et db3 ? Optionnel..."
   ]
  },
  {
   "cell_type": "markdown",
   "metadata": {},
   "source": [
    "Pour construire les ondelettes db3, on va chercher un polynôme $P$ de degré 5 (car construit sur filtre $(h_n)_n$ de taille 6) vérifiant les points suivants :\n",
    "\\begin{enumerate}\n",
    "\\item $P(1)=1$\n",
    "\\item $P(-1)=0$\n",
    "\\item $P'(-1)=0$\n",
    "\\item $P^{(2)}(-1)=0$.\n",
    "\\end{enumerate}\n",
    "Question 14 : Justifier qu'il existe $(a,b,c)\\in\\mathbb{R}^3$ tels que \n",
    "\\begin{equation*}\n",
    "P(z)=(az^2+bz+c)(z+1)^3.\n",
    "\\end{equation*}\n",
    "Question 15 : Quelle est la valeur de $a+b+c$ ?\n",
    "\n",
    "Question 16 :Justifier que les réels $(a,b,c)$ vérifient les deux relations suivantes :\n",
    "\\begin{equation*}\n",
    "\\left\\{\n",
    "\\begin{matrix}\n",
    "6(a^2+b^2+c^2)+16ab+16bc+20ac&=&0\\\\\n",
    "6ac+ab+bc&=&0\n",
    "\\end{matrix}\n",
    "\\right.\n",
    "\\end{equation*}\n",
    "Question 17 :\n",
    "En utilisant les questions précédentes et en exprimant $b$ à partir de $a$ et $c$ et en utilisant la symétrie entre $a$ et $c$ dans les deux relations précédentes, on peut les réécrire de la manière suivante en posant $P=ac$ et $S=a+c$\n",
    "\\begin{equation*}\n",
    "\\left\\{\n",
    "\\begin{matrix}\n",
    "-4S^2+\\frac{\\sqrt{2}}{2}S+8P+\\frac{3}{16}&=&0\\\\\n",
    "-S^2+\\frac{\\sqrt{2}}{8}S+6P&=&0\n",
    "\\end{matrix}\n",
    "\\right.\n",
    "\\end{equation*}\n",
    "Question 18 : En déduire la valeur de $P$ puis un moyen de calculer des valeurs possibles de $a$ et $c$ puis $b$. On ne demande pas les valeurs de $a,\\,b$ et $c$. \n",
    "\n"
   ]
  },
  {
   "cell_type": "code",
   "execution_count": null,
   "metadata": {},
   "outputs": [],
   "source": []
  }
 ],
 "metadata": {
  "kernelspec": {
   "display_name": "Python 3",
   "language": "python",
   "name": "python3"
  },
  "language_info": {
   "codemirror_mode": {
    "name": "ipython",
    "version": 3
   },
   "file_extension": ".py",
   "mimetype": "text/x-python",
   "name": "python",
   "nbconvert_exporter": "python",
   "pygments_lexer": "ipython3",
   "version": "3.7.8"
  },
  "latex_envs": {
   "LaTeX_envs_menu_present": true,
   "autoclose": false,
   "autocomplete": true,
   "bibliofile": "biblio.bib",
   "cite_by": "apalike",
   "current_citInitial": 1,
   "eqLabelWithNumbers": true,
   "eqNumInitial": 1,
   "hotkeys": {
    "equation": "Ctrl-E",
    "itemize": "Ctrl-I"
   },
   "labels_anchors": false,
   "latex_user_defs": false,
   "report_style_numbering": false,
   "user_envs_cfg": false
  }
 },
 "nbformat": 4,
 "nbformat_minor": 2
}
