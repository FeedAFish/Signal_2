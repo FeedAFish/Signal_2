{
 "cells": [
  {
   "cell_type": "markdown",
   "metadata": {},
   "source": [
    "# Transformée en Ondelettes 1D"
   ]
  },
  {
   "cell_type": "markdown",
   "metadata": {},
   "source": [
    "Ce TP nécessite l'import de bibliothèques qui ne sont potentiellement pas installées par défaut sur les machines que vous utilisez. Si vous utilisez une machine personnelle il faut veiller à ce que ces bibliothèques soient bien installées.\n",
    "\n",
    "SI VOUS ETES SUR UNE MACHINE À L'INSA VOUS DEVEZ CHARGER UN ENVIRONNEMENT SPÉCIFIQUE QUI CONTIENT LES BILBIOTHÈQUES NÉCESSAIRES. DANS UN TERMINAL, AVANT DE LANCER JUPYTER NOTEBOOK TAPER LA LIGNE DE COMMANDE SUIVANTE :\n",
    "\n",
    "source activate Param\n",
    "\n",
    "Ensuite vous pouvez lancer le notebook en tapant, dans le même terminal, par exemple \n",
    "\n",
    "jupyter notebook"
   ]
  },
  {
   "cell_type": "markdown",
   "metadata": {},
   "source": [
    "Pour effectuer ce TD nous allons utiliser la toolbox pywt.\n",
    "Le TP nécessite le téléchargement d'un fichier Piece.mat et d'un fichier Bloks.mat qui contiennent chacun un vecteur de référence sur lequel on effectuera les expériences numériques."
   ]
  },
  {
   "cell_type": "markdown",
   "metadata": {},
   "source": [
    "L'objet de ce TP n'est pas de vous faire coder par vous même les différents programmes : Approximation linéaire ou non linéaire ou d'affichage des ondelettes et des fonctions d'échelle mais de vous les faire utiliser afin que vous compreniez comment ils fonctionnent. Il a aussi pour but de vous familiariser avec des bilbiothèques que vous ne connaissez sans doute pas, comme holoviews et Panel pour l'affichage et param pour la création de dashboard ne manière très rapide.\n",
    "Ce TP n'est pas noté, celui sur les ondelettes 2D le sera et il vous sera essentiellement demandé de fournir des codes analogues à ceux ci en 2D."
   ]
  },
  {
   "cell_type": "markdown",
   "metadata": {},
   "source": [
    "AINSI VOTRE TRAVAIL CONSISTE ICI A LIRE ET COMPRENDRE LES CODES PROPOSÉS ET A LES TESTER.\n",
    "IL FAUT QUE VOUS SOYEZ CAPABLES DE COMPRENDRE POURQUOI LES DIFFERENTS PROGRAMMES RENVOIENT CE QUILS RENVOIENT.\n",
    "\n",
    "QUELQUES QUESTIONS SUPPLÉMENTAIRES SONT PROPOSÉES À LA FIN DU TP."
   ]
  },
  {
   "cell_type": "markdown",
   "metadata": {},
   "source": [
    "\n",
    "\n",
    "La commande de transformée en ondelettes est la suivante  pwt.wavedec (pour wavelet decimated) et peut s'utiliser comme suit :\n",
    "\n",
    "x=pywt.wavedec(S,'db2',mod='per',level=1)\n",
    "\n",
    "On pourra aussi utiliser la commande équivalente valable en dimension 2 également.\n",
    "\n",
    "x=pywt.wavedecn(S,'db2',mod='per',level=1)\n",
    "\n",
    "S est le vecteur qu'on souhaite transformer. 'db2' correspond au choix de l'ondelette. Ici il s'agit de l'ondelette associée à l'ondelette de Daubechie 4. Le 2 correspond au nombre de moments nuls de l'ondelette. L'ondelette de Haar correspond au choix db1. Le level définit le \n",
    "nombre de fois où on décompose un espace $V_j$ en deux.\\\\\n",
    "A titre d'exemple si on travaille sur un vecteur de taille 1024, on peut considérer que le vecteur que l'on transforme correspond aux 1024 coefficients de décomposition d'une fonction $f$ sur un espace $V_{-10}$. Si on effectue une transformée avec level=1 on calcule alors les coefficients de décomposition de cette fonction sur les deux sous espaces $V_{-9}$ et $W_{-9}$.  \n",
    "La sortie $x$ est alors une liste de 2 vecteurs contenant les coefficients dans les bases canoniques de ces deux espaces. Si on donne la valeur 2 à level, la sortie $x$ sera une liste de 3 vecteurs contenant les coefficients dans les 3  espaces $V_{-8}$, $W_{-8}$ et $W_{-9}$.\n",
    "\n",
    "La commande de transformée inverse est \n",
    "\n",
    "Srec=pywt.waverec(x, 'db2')\n",
    "\n",
    "et s'utilise comme dans le notebook."
   ]
  },
  {
   "cell_type": "markdown",
   "metadata": {},
   "source": [
    "La commande pywt.coeffs_to_array permet de concatener ces différents vecteurs en un seul. \n",
    "\n",
    "La commande pywt.array_to_coeffs permet de transformer un unqiue tableau en une suite de tableaux qui forment une transformée en ondelettes. \n",
    "Ces deux fonctions sont utilisées dans presque toutes les fonctions que je propose car je trouve plus simple de ne gérer qu'un seul tableau mais ce n'est pas une obligation. Il aurait été possible de tout faire en conservant une suite de tableau."
   ]
  },
  {
   "cell_type": "code",
   "execution_count": null,
   "metadata": {},
   "outputs": [],
   "source": [
    "import numpy as np\n",
    "import scipy as scp\n",
    "import pylab as pyl\n",
    "import matplotlib.pyplot as plt\n",
    "import pywt\n",
    "import scipy.io as sio\n",
    "import pandas as pd\n",
    "import holoviews as hv\n",
    "import param\n",
    "import panel as pn\n",
    "import requests\n",
    "from io import BytesIO\n",
    "from PIL import Image\n",
    "import shutil\n",
    "pn.extension()\n",
    "hv.extension('bokeh')"
   ]
  },
  {
   "cell_type": "markdown",
   "metadata": {},
   "source": [
    "Chargement des données soit à partir d'un fichier local, soit à partir d'une url."
   ]
  },
  {
   "cell_type": "code",
   "execution_count": null,
   "metadata": {},
   "outputs": [],
   "source": [
    "local=0\n",
    "if local:\n",
    "    S3=np.load('Piece.npy')\n",
    "    S4=np.load('Blocks.npy')   \n",
    "else:\n",
    "    url='https://plmlab.math.cnrs.fr/dossal/optimisationpourlimage/raw/master/img/Blocks.npy'\n",
    "    response = requests.get(url, stream=True)\n",
    "    with open('blocks.npy', 'wb') as fin:\n",
    "        shutil.copyfileobj(response.raw, fin)\n",
    "    S4=res=np.load('blocks.npy')\n",
    "    url='https://plmlab.math.cnrs.fr/dossal/optimisationpourlimage/raw/master/img/Piece.npy'\n",
    "    response = requests.get(url, stream=True)\n",
    "    with open('piece.npy', 'wb') as fin:\n",
    "        shutil.copyfileobj(response.raw, fin)\n",
    "    S3=res=np.load('piece.npy')\n",
    "pn.Row(hv.Curve(S3),hv.Curve(S4))"
   ]
  },
  {
   "cell_type": "code",
   "execution_count": null,
   "metadata": {},
   "outputs": [],
   "source": [
    "url='https://plmlab.math.cnrs.fr/dossal/optimisationpourlimage/raw/master/img/Blocks.npy'\n",
    "response = requests.get(url, stream=True)\n",
    "with open('blocks.npy', 'wb') as fin:\n",
    "    shutil.copyfileobj(response.raw, fin)\n",
    "\n",
    "res=np.load('blocks.npy') # Works!\n",
    "hv.Curve(res)"
   ]
  },
  {
   "cell_type": "markdown",
   "metadata": {},
   "source": [
    "Voici la manière dont on affiche une courbe grâce à Holoviews. Si vous voulez personnaliser l'affichage, je vous invite à vous reporter à l'aide. Les icônes à droite permettent de zoomler et de se déplacer dans la figure."
   ]
  },
  {
   "cell_type": "code",
   "execution_count": null,
   "metadata": {},
   "outputs": [],
   "source": [
    "hv.Curve(S3).options(width=600)"
   ]
  },
  {
   "cell_type": "markdown",
   "metadata": {},
   "source": [
    "Les commandes suivantes permettent d'afficher les coefficients de décompostion du signal originale dans les espaces $V_9$ et $w_{9}$ de la transformée en ondelettes de Daubechies db2. Par défaut on utilisera le mode per (pour périodique). J'évoquerai le rôle de ce mode pendant la séance. "
   ]
  },
  {
   "cell_type": "code",
   "execution_count": null,
   "metadata": {},
   "outputs": [],
   "source": [
    "x= pywt.wavedec(S3, 'db2', mode='per', level=1)\n",
    "pn.Column(hv.Curve(x[0]).options(width=800,title=\"Coefficients sur V-9\")\\\n",
    "          ,hv.Curve(x[1]).options(width=800,title=\"Coefficients sur W-9\"))"
   ]
  },
  {
   "cell_type": "markdown",
   "metadata": {},
   "source": [
    "Les fonctions suivantes sont le coeur du TP. Essayez de comprendre ce qu'elles renvoient.\n",
    "Les deux premières qui permettent d'afficher les fonctions d'échelle et les ondelettes, utilisent le fait que la transformée en ondelettes d'une ondelette ou d'une focntion d'échelle est un Dirac. Autrement dit pour les construire on calcule la transformée en ondelettes inverse d'un Dirac. \n",
    "\n",
    "Dans les cellules suivantes, ces codes sont utilisés, vous pourrez y voir le rôle de la variable pos. \n",
    "\n",
    "Vous pouvez essayer d'afficher plusieurs ondelettes consécutives sur le même graphique. Comme vous pourrez le voir dans les codes d'approximation linéaire et non linéaire, holoviews utilsie le symbole * pour afficher plusieurs courbes sur la même figure.\n"
   ]
  },
  {
   "cell_type": "code",
   "execution_count": null,
   "metadata": {},
   "outputs": [],
   "source": [
    "def VisuFoncEchel(N,qmf,scale,pos):\n",
    "    Lmax=pywt.dwt_max_level(N,pywt.Wavelet(qmf).dec_len)\n",
    "    L=min(scale,Lmax)\n",
    "    Ne=int(np.floor(N/2**L))\n",
    "    k=int(np.floor(Ne*pos))\n",
    "    temp=np.zeros(N)\n",
    "    WT= pywt.wavedecn(temp, qmf, mode='per', level=L)\n",
    "    arr, coeff_slices = pywt.coeffs_to_array(WT)\n",
    "    temp[k]=1\n",
    "    coeffs_from_arr = pywt.array_to_coeffs(temp, coeff_slices)\n",
    "    Phi=pywt.waverecn(coeffs_from_arr,qmf,mode='per')\n",
    "    return hv.Curve(Phi).options(width=600)\n",
    "def VisuOnd(N,qmf,scale,pos):\n",
    "    Lmax=pywt.dwt_max_level(N,pywt.Wavelet(qmf).dec_len)\n",
    "    L=min(scale,Lmax)\n",
    "    Ne=int(np.floor(N/2**L))\n",
    "    k=int(np.floor(Ne*pos))\n",
    "    temp=np.zeros(N)\n",
    "    WT= pywt.wavedecn(temp, qmf, mode='per', level=L)\n",
    "    arr, coeff_slices = pywt.coeffs_to_array(WT)\n",
    "    temp[k+Ne]=1\n",
    "    coeffs_from_arr = pywt.array_to_coeffs(temp, coeff_slices)\n",
    "    Phi=pywt.waverecn(coeffs_from_arr,qmf,mode='per')\n",
    "    return pn.Row(hv.Curve(Phi).options(width=600))\n",
    "def ApproxLin(S,qmf,scale):\n",
    "    # Approximation linéaire dans une base d'ondelettes. l'ondelette est spécifiée par la str qmf \n",
    "    # L'approximation est une projection sur l'espace V_j de dimension 2^scale. \n",
    "    N1=len(S)\n",
    "    Lmax=pywt.dwt_max_level(len(S),pywt.Wavelet(qmf).dec_len)\n",
    "    WT= pywt.wavedecn(S, qmf, mode='per', level=Lmax)\n",
    "    arr, coeff_slices = pywt.coeffs_to_array(WT)\n",
    "    temp=np.zeros(N1)\n",
    "    temp[0:2**scale]=arr[0:2**scale]\n",
    "    Wtemp = pywt.array_to_coeffs(temp, coeff_slices)\n",
    "    Srec=pywt.waverecn(Wtemp,qmf,mode='per')\n",
    "    barres=hv.VLine(N1/2-0.5).options(color='black',line_width=1)\n",
    "    LN=int(np.floor(np.log2(N1)))\n",
    "    for k in np.arange(LN-Lmax,LN):\n",
    "        barres=barres*hv.VLine(2**k-0.5).options(color='black',line_width=1)\n",
    "    return pn.Column(hv.Curve(S)*hv.Curve(Srec).options(color='red',width=600)\\\n",
    "                     ,hv.Curve(arr)*hv.Curve(temp).options(color='red',width=600)*barres)\n",
    "def ApproxOnd1D(S,qmf,L,T):\n",
    "    Lmax=pywt.dwt_max_level(len(S),pywt.Wavelet(qmf).dec_len)\n",
    "    L1=min(L,Lmax)\n",
    "    WT= pywt.wavedecn(S, qmf, mode='per', level=L1)\n",
    "    arr, coeff_slices = pywt.coeffs_to_array(WT)\n",
    "    WTS=arr*(np.abs(arr)>T)\n",
    "    coeffs_from_arr = pywt.array_to_coeffs(WTS, coeff_slices)\n",
    "    Srec=pywt.waverecn(coeffs_from_arr,qmf,mode='per')\n",
    "    return Srec\n",
    "def ApproxOnd1Dv2(S,qmf,L,N):\n",
    "    N1=len(S)\n",
    "    Lmax=pywt.dwt_max_level(len(S),pywt.Wavelet(qmf).dec_len)\n",
    "    L1=min(L,Lmax)\n",
    "    WT= pywt.wavedecn(S, qmf, mode='per', level=L1)\n",
    "    arr, coeff_slices = pywt.coeffs_to_array(WT)\n",
    "    Ind=np.argsort(np.abs(arr))\n",
    "    WTS=np.zeros(N1)\n",
    "    WTS[Ind[N1-N:N1]]=arr[Ind[N1-N:N1]]\n",
    "    coeffs_from_arr = pywt.array_to_coeffs(WTS, coeff_slices)\n",
    "    Srec=pywt.waverecn(coeffs_from_arr,qmf,mode='per')\n",
    "    return Srec\n"
   ]
  },
  {
   "cell_type": "code",
   "execution_count": null,
   "metadata": {},
   "outputs": [],
   "source": [
    "wavelist = ['haar','db2','db3','db4','coif1','coif2','coif3','sym2','sym3']"
   ]
  },
  {
   "cell_type": "code",
   "execution_count": null,
   "metadata": {},
   "outputs": [],
   "source": [
    "\n",
    "class VisuPhi(param.Parameterized):\n",
    "    wave = param.ObjectSelector(default=\"haar\",objects=wavelist)\n",
    "    scale = param.Integer(12,bounds=(0,15))\n",
    "    pos = param.Number(0.5,bounds=(0,0.95))\n",
    "    #T = param.Number(1,bounds=(1,100))\n",
    "    #@param.depends('wave', 'T', 'L')\n",
    "    def view(self):\n",
    "        N=2**15\n",
    "        Affich=VisuFoncEchel(N,self.wave,self.scale,self.pos)\n",
    "        return Affich"
   ]
  },
  {
   "cell_type": "code",
   "execution_count": null,
   "metadata": {},
   "outputs": [],
   "source": [
    "Visuphi = VisuPhi()\n",
    "pn.Row(Visuphi.param,Visuphi.view)"
   ]
  },
  {
   "cell_type": "code",
   "execution_count": null,
   "metadata": {},
   "outputs": [],
   "source": [
    "class WaveApproxLin(param.Parameterized):\n",
    "    wave = param.ObjectSelector(default=\"haar\",objects=wavelist)\n",
    "    scale = param.Integer(7,bounds=(0,10))\n",
    "    #T = param.Number(1,bounds=(1,100))\n",
    "    #@param.depends('wave', 'T', 'L')\n",
    "    def view(self):\n",
    "        Affich=ApproxLin(S3,self.wave,self.scale)\n",
    "        return Affich"
   ]
  },
  {
   "cell_type": "code",
   "execution_count": null,
   "metadata": {},
   "outputs": [],
   "source": [
    "waveapproxlin = WaveApproxLin()\n",
    "pn.Row(waveapproxlin.param,waveapproxlin.view)"
   ]
  },
  {
   "cell_type": "code",
   "execution_count": null,
   "metadata": {},
   "outputs": [],
   "source": [
    "class WaveExplorer(param.Parameterized):\n",
    "    wave = param.ObjectSelector(default=\"haar\",objects=wavelist)\n",
    "    L = param.Integer(9,bounds=(0,9))\n",
    "    T = param.Number(10,bounds=(1,100))\n",
    "  #  @param.depends('wave', 'T', 'L')\n",
    "    def view(self):\n",
    "        Srec = ApproxOnd1D(S3,self.wave,self.L,self.T)\n",
    "        return hv.Curve(S3).options(color='blue',width=600)*hv.Curve(Srec).options(color='red',width=600)"
   ]
  },
  {
   "cell_type": "code",
   "execution_count": null,
   "metadata": {},
   "outputs": [],
   "source": [
    "waveexplo = WaveExplorer()\n",
    "pn.Row(waveexplo.param,waveexplo.view)"
   ]
  },
  {
   "cell_type": "code",
   "execution_count": null,
   "metadata": {},
   "outputs": [],
   "source": [
    "class WaveExplorerv2(param.Parameterized):\n",
    "    wave = param.ObjectSelector(default=\"haar\",objects=wavelist)\n",
    "    L = param.Integer(9,bounds=(0,9))\n",
    "    N = param.Integer(150,bounds=(1,1023))\n",
    "  #  @param.depends('wave', 'N', 'L')\n",
    "    def view(self):\n",
    "        Srec = ApproxOnd1Dv2(S3,self.wave,self.L,self.N)\n",
    "        return hv.Curve(S3).options(color='blue',width=600)*hv.Curve(Srec).options(color='red',width=600)"
   ]
  },
  {
   "cell_type": "code",
   "execution_count": null,
   "metadata": {},
   "outputs": [],
   "source": [
    "waveexplo2 = WaveExplorerv2()\n",
    "pn.Row(waveexplo2.param,waveexplo2.view)"
   ]
  },
  {
   "cell_type": "markdown",
   "metadata": {},
   "source": [
    "1) Proposer un programme qui permet d'évaluer le nombre de moments nuls de chacune des ondelettes.\n",
    "2) Modifier Waveexplorer de manière à afficher la transformée en ondelettes et afficher les coefficients du signal original en bleu, ceux conservés (au dessus du seuil) en rouge et deux lignes horizontales d'équation y=T et y=-T en noir. il faudra peut être modifier la fonction ApproxOnd1D pour qu'elle renvoie aussi les coefficients d'ondelettes.\n",
    "\n",
    "Une manière classique de mesurer la distance d'un signal dégradé à un signal de référence est le PSNR (dont je vous laisse chercher la définition). Plus le PSNR est élevé plus la dégradation ezsts faible.\n",
    "\n",
    "3) Proposer un  programme qui calcule et affiche le PSNR d'une approximation non linéaire en ondelettes en fonction du nombre de coefficients conservés. Cette mesure n'a d'intérêt que pour des valeurs de N où la reconstruction est correcte mais pas parfaite. \n",
    "\n",
    "4) Quelle base d'ondelettes est la plus adaptée pour chacun des deux signaux de référence pour des valeurs de N pertinentes ?"
   ]
  },
  {
   "cell_type": "code",
   "execution_count": null,
   "metadata": {},
   "outputs": [],
   "source": []
  },
  {
   "cell_type": "code",
   "execution_count": null,
   "metadata": {},
   "outputs": [],
   "source": []
  }
 ],
 "metadata": {
  "kernelspec": {
   "display_name": "Python 3",
   "language": "python",
   "name": "python3"
  },
  "language_info": {
   "codemirror_mode": {
    "name": "ipython",
    "version": 3
   },
   "file_extension": ".py",
   "mimetype": "text/x-python",
   "name": "python",
   "nbconvert_exporter": "python",
   "pygments_lexer": "ipython3",
   "version": "3.7.3"
  },
  "latex_envs": {
   "LaTeX_envs_menu_present": true,
   "autoclose": false,
   "autocomplete": true,
   "bibliofile": "biblio.bib",
   "cite_by": "apalike",
   "current_citInitial": 1,
   "eqLabelWithNumbers": true,
   "eqNumInitial": 1,
   "hotkeys": {
    "equation": "Ctrl-E",
    "itemize": "Ctrl-I"
   },
   "labels_anchors": false,
   "latex_user_defs": false,
   "report_style_numbering": false,
   "user_envs_cfg": false
  }
 },
 "nbformat": 4,
 "nbformat_minor": 2
}
